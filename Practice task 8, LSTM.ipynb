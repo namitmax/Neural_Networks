{
 "cells": [
  {
   "cell_type": "markdown",
   "metadata": {
    "id": "Ozv5R5bp7eGV"
   },
   "source": [
    "## Семинар 9: \"LSTM\""
   ]
  },
  {
   "cell_type": "markdown",
   "metadata": {
    "id": "KuhlXVaN7eGZ"
   },
   "source": [
    "ФИО: Намит Максим Михайлович"
   ]
  },
  {
   "cell_type": "code",
   "execution_count": 1,
   "metadata": {
    "colab": {
     "base_uri": "https://localhost:8080/"
    },
    "id": "Y49nY-Mo7k30",
    "outputId": "ce596617-fc4e-4b73-c5b0-0ef7e25139ff"
   },
   "outputs": [
    {
     "name": "stdout",
     "output_type": "stream",
     "text": [
      "Drive already mounted at /content/drive; to attempt to forcibly remount, call drive.mount(\"/content/drive\", force_remount=True).\n"
     ]
    }
   ],
   "source": [
    "from google.colab import drive\n",
    "drive.mount('/content/drive')"
   ]
  },
  {
   "cell_type": "code",
   "execution_count": 2,
   "metadata": {
    "colab": {
     "base_uri": "https://localhost:8080/"
    },
    "id": "a10lJYm98OwQ",
    "outputId": "d1adb065-b671-4d8d-8564-3372e40c581f"
   },
   "outputs": [
    {
     "name": "stdout",
     "output_type": "stream",
     "text": [
      "/content/drive/MyDrive/data/timeseries\n"
     ]
    }
   ],
   "source": [
    "cd drive/MyDrive/data/timeseries/"
   ]
  },
  {
   "cell_type": "code",
   "execution_count": 3,
   "metadata": {
    "colab": {
     "base_uri": "https://localhost:8080/"
    },
    "id": "z21bZtrq8XzJ",
    "outputId": "48425d09-5a70-418f-ebe4-b4dff64c365e"
   },
   "outputs": [
    {
     "name": "stdout",
     "output_type": "stream",
     "text": [
      "Requirement already satisfied: pytorch_forecasting in /usr/local/lib/python3.7/dist-packages (0.8.5)\n",
      "Requirement already satisfied: statsmodels in /usr/local/lib/python3.7/dist-packages (from pytorch_forecasting) (0.10.2)\n",
      "Requirement already satisfied: pandas<2.0.0,>=1.1.0 in /usr/local/lib/python3.7/dist-packages (from pytorch_forecasting) (1.1.5)\n",
      "Requirement already satisfied: optuna<3.0.0,>=2.3.0 in /usr/local/lib/python3.7/dist-packages (from pytorch_forecasting) (2.7.0)\n",
      "Requirement already satisfied: torch<2.0,>=1.7 in /usr/local/lib/python3.7/dist-packages (from pytorch_forecasting) (1.8.1+cu101)\n",
      "Requirement already satisfied: pytorch-lightning<2.0.0,>=1.2.4 in /usr/local/lib/python3.7/dist-packages (from pytorch_forecasting) (1.3.3)\n",
      "Requirement already satisfied: scikit-learn<0.25,>=0.23 in /usr/local/lib/python3.7/dist-packages (from pytorch_forecasting) (0.24.2)\n",
      "Requirement already satisfied: matplotlib in /usr/local/lib/python3.7/dist-packages (from pytorch_forecasting) (3.2.2)\n",
      "Requirement already satisfied: scipy in /usr/local/lib/python3.7/dist-packages (from pytorch_forecasting) (1.4.1)\n",
      "Requirement already satisfied: numpy>=1.11 in /usr/local/lib/python3.7/dist-packages (from statsmodels->pytorch_forecasting) (1.19.5)\n",
      "Requirement already satisfied: patsy>=0.4.0 in /usr/local/lib/python3.7/dist-packages (from statsmodels->pytorch_forecasting) (0.5.1)\n",
      "Requirement already satisfied: python-dateutil>=2.7.3 in /usr/local/lib/python3.7/dist-packages (from pandas<2.0.0,>=1.1.0->pytorch_forecasting) (2.8.1)\n",
      "Requirement already satisfied: pytz>=2017.2 in /usr/local/lib/python3.7/dist-packages (from pandas<2.0.0,>=1.1.0->pytorch_forecasting) (2018.9)\n",
      "Requirement already satisfied: sqlalchemy>=1.1.0 in /usr/local/lib/python3.7/dist-packages (from optuna<3.0.0,>=2.3.0->pytorch_forecasting) (1.4.15)\n",
      "Requirement already satisfied: cmaes>=0.8.2 in /usr/local/lib/python3.7/dist-packages (from optuna<3.0.0,>=2.3.0->pytorch_forecasting) (0.8.2)\n",
      "Requirement already satisfied: colorlog in /usr/local/lib/python3.7/dist-packages (from optuna<3.0.0,>=2.3.0->pytorch_forecasting) (5.0.1)\n",
      "Requirement already satisfied: tqdm in /usr/local/lib/python3.7/dist-packages (from optuna<3.0.0,>=2.3.0->pytorch_forecasting) (4.41.1)\n",
      "Requirement already satisfied: packaging>=20.0 in /usr/local/lib/python3.7/dist-packages (from optuna<3.0.0,>=2.3.0->pytorch_forecasting) (20.9)\n",
      "Requirement already satisfied: cliff in /usr/local/lib/python3.7/dist-packages (from optuna<3.0.0,>=2.3.0->pytorch_forecasting) (3.8.0)\n",
      "Requirement already satisfied: alembic in /usr/local/lib/python3.7/dist-packages (from optuna<3.0.0,>=2.3.0->pytorch_forecasting) (1.6.5)\n",
      "Requirement already satisfied: typing-extensions in /usr/local/lib/python3.7/dist-packages (from torch<2.0,>=1.7->pytorch_forecasting) (3.7.4.3)\n",
      "Requirement already satisfied: fsspec[http]>=2021.4.0 in /usr/local/lib/python3.7/dist-packages (from pytorch-lightning<2.0.0,>=1.2.4->pytorch_forecasting) (2021.5.0)\n",
      "Requirement already satisfied: tensorboard!=2.5.0,>=2.2.0 in /usr/local/lib/python3.7/dist-packages (from pytorch-lightning<2.0.0,>=1.2.4->pytorch_forecasting) (2.4.1)\n",
      "Requirement already satisfied: future>=0.17.1 in /usr/local/lib/python3.7/dist-packages (from pytorch-lightning<2.0.0,>=1.2.4->pytorch_forecasting) (0.18.2)\n",
      "Requirement already satisfied: pyDeprecate==0.3.0 in /usr/local/lib/python3.7/dist-packages (from pytorch-lightning<2.0.0,>=1.2.4->pytorch_forecasting) (0.3.0)\n",
      "Requirement already satisfied: torchmetrics>=0.2.0 in /usr/local/lib/python3.7/dist-packages (from pytorch-lightning<2.0.0,>=1.2.4->pytorch_forecasting) (0.3.2)\n",
      "Requirement already satisfied: PyYAML<=5.4.1,>=5.1 in /usr/local/lib/python3.7/dist-packages (from pytorch-lightning<2.0.0,>=1.2.4->pytorch_forecasting) (5.4.1)\n",
      "Requirement already satisfied: joblib>=0.11 in /usr/local/lib/python3.7/dist-packages (from scikit-learn<0.25,>=0.23->pytorch_forecasting) (1.0.1)\n",
      "Requirement already satisfied: threadpoolctl>=2.0.0 in /usr/local/lib/python3.7/dist-packages (from scikit-learn<0.25,>=0.23->pytorch_forecasting) (2.1.0)\n",
      "Requirement already satisfied: kiwisolver>=1.0.1 in /usr/local/lib/python3.7/dist-packages (from matplotlib->pytorch_forecasting) (1.3.1)\n",
      "Requirement already satisfied: cycler>=0.10 in /usr/local/lib/python3.7/dist-packages (from matplotlib->pytorch_forecasting) (0.10.0)\n",
      "Requirement already satisfied: pyparsing!=2.0.4,!=2.1.2,!=2.1.6,>=2.0.1 in /usr/local/lib/python3.7/dist-packages (from matplotlib->pytorch_forecasting) (2.4.7)\n",
      "Requirement already satisfied: six in /usr/local/lib/python3.7/dist-packages (from patsy>=0.4.0->statsmodels->pytorch_forecasting) (1.15.0)\n",
      "Requirement already satisfied: greenlet!=0.4.17; python_version >= \"3\" in /usr/local/lib/python3.7/dist-packages (from sqlalchemy>=1.1.0->optuna<3.0.0,>=2.3.0->pytorch_forecasting) (1.1.0)\n",
      "Requirement already satisfied: importlib-metadata; python_version < \"3.8\" in /usr/local/lib/python3.7/dist-packages (from sqlalchemy>=1.1.0->optuna<3.0.0,>=2.3.0->pytorch_forecasting) (4.0.1)\n",
      "Requirement already satisfied: PrettyTable>=0.7.2 in /usr/local/lib/python3.7/dist-packages (from cliff->optuna<3.0.0,>=2.3.0->pytorch_forecasting) (2.1.0)\n",
      "Requirement already satisfied: pbr!=2.1.0,>=2.0.0 in /usr/local/lib/python3.7/dist-packages (from cliff->optuna<3.0.0,>=2.3.0->pytorch_forecasting) (5.6.0)\n",
      "Requirement already satisfied: stevedore>=2.0.1 in /usr/local/lib/python3.7/dist-packages (from cliff->optuna<3.0.0,>=2.3.0->pytorch_forecasting) (3.3.0)\n",
      "Requirement already satisfied: cmd2>=1.0.0 in /usr/local/lib/python3.7/dist-packages (from cliff->optuna<3.0.0,>=2.3.0->pytorch_forecasting) (1.5.0)\n",
      "Requirement already satisfied: python-editor>=0.3 in /usr/local/lib/python3.7/dist-packages (from alembic->optuna<3.0.0,>=2.3.0->pytorch_forecasting) (1.0.4)\n",
      "Requirement already satisfied: Mako in /usr/local/lib/python3.7/dist-packages (from alembic->optuna<3.0.0,>=2.3.0->pytorch_forecasting) (1.1.4)\n",
      "Requirement already satisfied: aiohttp; extra == \"http\" in /usr/local/lib/python3.7/dist-packages (from fsspec[http]>=2021.4.0->pytorch-lightning<2.0.0,>=1.2.4->pytorch_forecasting) (3.7.4.post0)\n",
      "Requirement already satisfied: requests; extra == \"http\" in /usr/local/lib/python3.7/dist-packages (from fsspec[http]>=2021.4.0->pytorch-lightning<2.0.0,>=1.2.4->pytorch_forecasting) (2.23.0)\n",
      "Requirement already satisfied: google-auth<2,>=1.6.3 in /usr/local/lib/python3.7/dist-packages (from tensorboard!=2.5.0,>=2.2.0->pytorch-lightning<2.0.0,>=1.2.4->pytorch_forecasting) (1.30.0)\n",
      "Requirement already satisfied: markdown>=2.6.8 in /usr/local/lib/python3.7/dist-packages (from tensorboard!=2.5.0,>=2.2.0->pytorch-lightning<2.0.0,>=1.2.4->pytorch_forecasting) (3.3.4)\n",
      "Requirement already satisfied: wheel>=0.26; python_version >= \"3\" in /usr/local/lib/python3.7/dist-packages (from tensorboard!=2.5.0,>=2.2.0->pytorch-lightning<2.0.0,>=1.2.4->pytorch_forecasting) (0.36.2)\n",
      "Requirement already satisfied: protobuf>=3.6.0 in /usr/local/lib/python3.7/dist-packages (from tensorboard!=2.5.0,>=2.2.0->pytorch-lightning<2.0.0,>=1.2.4->pytorch_forecasting) (3.12.4)\n",
      "Requirement already satisfied: absl-py>=0.4 in /usr/local/lib/python3.7/dist-packages (from tensorboard!=2.5.0,>=2.2.0->pytorch-lightning<2.0.0,>=1.2.4->pytorch_forecasting) (0.12.0)\n",
      "Requirement already satisfied: tensorboard-plugin-wit>=1.6.0 in /usr/local/lib/python3.7/dist-packages (from tensorboard!=2.5.0,>=2.2.0->pytorch-lightning<2.0.0,>=1.2.4->pytorch_forecasting) (1.8.0)\n",
      "Requirement already satisfied: google-auth-oauthlib<0.5,>=0.4.1 in /usr/local/lib/python3.7/dist-packages (from tensorboard!=2.5.0,>=2.2.0->pytorch-lightning<2.0.0,>=1.2.4->pytorch_forecasting) (0.4.4)\n",
      "Requirement already satisfied: setuptools>=41.0.0 in /usr/local/lib/python3.7/dist-packages (from tensorboard!=2.5.0,>=2.2.0->pytorch-lightning<2.0.0,>=1.2.4->pytorch_forecasting) (56.1.0)\n",
      "Requirement already satisfied: werkzeug>=0.11.15 in /usr/local/lib/python3.7/dist-packages (from tensorboard!=2.5.0,>=2.2.0->pytorch-lightning<2.0.0,>=1.2.4->pytorch_forecasting) (1.0.1)\n",
      "Requirement already satisfied: grpcio>=1.24.3 in /usr/local/lib/python3.7/dist-packages (from tensorboard!=2.5.0,>=2.2.0->pytorch-lightning<2.0.0,>=1.2.4->pytorch_forecasting) (1.34.1)\n",
      "Requirement already satisfied: zipp>=0.5 in /usr/local/lib/python3.7/dist-packages (from importlib-metadata; python_version < \"3.8\"->sqlalchemy>=1.1.0->optuna<3.0.0,>=2.3.0->pytorch_forecasting) (3.4.1)\n",
      "Requirement already satisfied: wcwidth in /usr/local/lib/python3.7/dist-packages (from PrettyTable>=0.7.2->cliff->optuna<3.0.0,>=2.3.0->pytorch_forecasting) (0.2.5)\n",
      "Requirement already satisfied: attrs>=16.3.0 in /usr/local/lib/python3.7/dist-packages (from cmd2>=1.0.0->cliff->optuna<3.0.0,>=2.3.0->pytorch_forecasting) (21.2.0)\n",
      "Requirement already satisfied: pyperclip>=1.6 in /usr/local/lib/python3.7/dist-packages (from cmd2>=1.0.0->cliff->optuna<3.0.0,>=2.3.0->pytorch_forecasting) (1.8.2)\n",
      "Requirement already satisfied: colorama>=0.3.7 in /usr/local/lib/python3.7/dist-packages (from cmd2>=1.0.0->cliff->optuna<3.0.0,>=2.3.0->pytorch_forecasting) (0.4.4)\n",
      "Requirement already satisfied: MarkupSafe>=0.9.2 in /usr/local/lib/python3.7/dist-packages (from Mako->alembic->optuna<3.0.0,>=2.3.0->pytorch_forecasting) (2.0.1)\n",
      "Requirement already satisfied: chardet<5.0,>=2.0 in /usr/local/lib/python3.7/dist-packages (from aiohttp; extra == \"http\"->fsspec[http]>=2021.4.0->pytorch-lightning<2.0.0,>=1.2.4->pytorch_forecasting) (3.0.4)\n",
      "Requirement already satisfied: async-timeout<4.0,>=3.0 in /usr/local/lib/python3.7/dist-packages (from aiohttp; extra == \"http\"->fsspec[http]>=2021.4.0->pytorch-lightning<2.0.0,>=1.2.4->pytorch_forecasting) (3.0.1)\n",
      "Requirement already satisfied: yarl<2.0,>=1.0 in /usr/local/lib/python3.7/dist-packages (from aiohttp; extra == \"http\"->fsspec[http]>=2021.4.0->pytorch-lightning<2.0.0,>=1.2.4->pytorch_forecasting) (1.6.3)\n",
      "Requirement already satisfied: multidict<7.0,>=4.5 in /usr/local/lib/python3.7/dist-packages (from aiohttp; extra == \"http\"->fsspec[http]>=2021.4.0->pytorch-lightning<2.0.0,>=1.2.4->pytorch_forecasting) (5.1.0)\n",
      "Requirement already satisfied: certifi>=2017.4.17 in /usr/local/lib/python3.7/dist-packages (from requests; extra == \"http\"->fsspec[http]>=2021.4.0->pytorch-lightning<2.0.0,>=1.2.4->pytorch_forecasting) (2020.12.5)\n",
      "Requirement already satisfied: idna<3,>=2.5 in /usr/local/lib/python3.7/dist-packages (from requests; extra == \"http\"->fsspec[http]>=2021.4.0->pytorch-lightning<2.0.0,>=1.2.4->pytorch_forecasting) (2.10)\n",
      "Requirement already satisfied: urllib3!=1.25.0,!=1.25.1,<1.26,>=1.21.1 in /usr/local/lib/python3.7/dist-packages (from requests; extra == \"http\"->fsspec[http]>=2021.4.0->pytorch-lightning<2.0.0,>=1.2.4->pytorch_forecasting) (1.24.3)\n",
      "Requirement already satisfied: pyasn1-modules>=0.2.1 in /usr/local/lib/python3.7/dist-packages (from google-auth<2,>=1.6.3->tensorboard!=2.5.0,>=2.2.0->pytorch-lightning<2.0.0,>=1.2.4->pytorch_forecasting) (0.2.8)\n",
      "Requirement already satisfied: cachetools<5.0,>=2.0.0 in /usr/local/lib/python3.7/dist-packages (from google-auth<2,>=1.6.3->tensorboard!=2.5.0,>=2.2.0->pytorch-lightning<2.0.0,>=1.2.4->pytorch_forecasting) (4.2.2)\n",
      "Requirement already satisfied: rsa<5,>=3.1.4; python_version >= \"3.6\" in /usr/local/lib/python3.7/dist-packages (from google-auth<2,>=1.6.3->tensorboard!=2.5.0,>=2.2.0->pytorch-lightning<2.0.0,>=1.2.4->pytorch_forecasting) (4.7.2)\n",
      "Requirement already satisfied: requests-oauthlib>=0.7.0 in /usr/local/lib/python3.7/dist-packages (from google-auth-oauthlib<0.5,>=0.4.1->tensorboard!=2.5.0,>=2.2.0->pytorch-lightning<2.0.0,>=1.2.4->pytorch_forecasting) (1.3.0)\n",
      "Requirement already satisfied: pyasn1<0.5.0,>=0.4.6 in /usr/local/lib/python3.7/dist-packages (from pyasn1-modules>=0.2.1->google-auth<2,>=1.6.3->tensorboard!=2.5.0,>=2.2.0->pytorch-lightning<2.0.0,>=1.2.4->pytorch_forecasting) (0.4.8)\n",
      "Requirement already satisfied: oauthlib>=3.0.0 in /usr/local/lib/python3.7/dist-packages (from requests-oauthlib>=0.7.0->google-auth-oauthlib<0.5,>=0.4.1->tensorboard!=2.5.0,>=2.2.0->pytorch-lightning<2.0.0,>=1.2.4->pytorch_forecasting) (3.1.0)\n"
     ]
    }
   ],
   "source": [
    "!pip install pytorch_forecasting"
   ]
  },
  {
   "cell_type": "code",
   "execution_count": 4,
   "metadata": {
    "id": "kB5E8KiX7eGa"
   },
   "outputs": [],
   "source": [
    "import numpy as np\n",
    "from sklearn.model_selection import train_test_split\n",
    "import matplotlib.pyplot as plt\n",
    "from torch import optim\n",
    "import torch\n",
    "from torch import nn\n",
    "from pytorch_forecasting.metrics import MAPE\n",
    "import pandas\n",
    "from sklearn.preprocessing import MinMaxScaler\n",
    "from torch.utils.data import DataLoader, Dataset, TensorDataset\n",
    "from sklearn.metrics import mean_absolute_percentage_error\n",
    "%matplotlib inline"
   ]
  },
  {
   "cell_type": "markdown",
   "metadata": {
    "id": "CA8EcZ2m7eGc"
   },
   "source": [
    "Этот семинар посвящен реализации RNN в pyTorch"
   ]
  },
  {
   "cell_type": "markdown",
   "metadata": {
    "id": "MTSnFwvY7eGc"
   },
   "source": [
    "## Задание 1"
   ]
  },
  {
   "cell_type": "markdown",
   "metadata": {
    "id": "CTquu4qE7eGd"
   },
   "source": [
    "Напишите свою реализацию LSTM."
   ]
  },
  {
   "cell_type": "markdown",
   "metadata": {
    "id": "dPPnMSZ57eGd"
   },
   "source": [
    "<img src=\"https://cdn-images-1.medium.com/max/1600/1*hl9UVtgIcQkDIGD8VFykdw.png\" width=\"640\">"
   ]
  },
  {
   "cell_type": "code",
   "execution_count": 5,
   "metadata": {
    "id": "BfHYjgxH7eGe"
   },
   "outputs": [],
   "source": [
    "class LSTM(nn.Module):\n",
    "    def __init__(self, input_size, hidden_size):\n",
    "        super(LSTM, self).__init__()\n",
    "        self.input_size = input_size\n",
    "        self.hidden_size = hidden_size\n",
    "        self.gate_size = 4 * self.hidden_size\n",
    "        \n",
    "        self.W_i = nn.Parameter(torch.Tensor(input_size, self.gate_size).zero_())\n",
    "        \n",
    "        self.W_h = nn.Parameter(torch.Tensor(hidden_size, self.gate_size).zero_())\n",
    "        \n",
    "        self.b = nn.Parameter(torch.Tensor(self.gate_size).zero_())\n",
    "        \n",
    "        \n",
    "    def forward(self, inputs, hidden):\n",
    "        # inputs: (seq_len, batch_size, input_size)\n",
    "        # hidden: (batch_size, hidden_size) x 2. (no layers)\n",
    "        \n",
    "        h, c = hidden\n",
    "        bs = h.size(0)\n",
    "        \n",
    "        seq_length = inputs.size(0)\n",
    "        out = torch.autograd.Variable(torch.Tensor(seq_length, bs, self.hidden_size))\n",
    "        \n",
    "        for i, inp in enumerate(inputs):\n",
    "            S = (torch.matmul(inp, self.W_i) + torch.matmul(h, self.W_h) + self.b)\n",
    "            S = S.view(bs, 4, self.hidden_size)\n",
    "            \n",
    "            i_1 = torch.sigmoid(S[:,0,:])\n",
    "            f_1 = torch.sigmoid(S[:,1,:])\n",
    "            g_1 = torch.tanh(S[:,2,:])\n",
    "            o_1 = torch.sigmoid(S[:,3,:])\n",
    "            \n",
    "            c = f_1 * c + i_1 * g_1\n",
    "            h = o_1 * torch.tanh(c)\n",
    "            out[i] = h\n",
    "        return out, (h, c)"
   ]
  },
  {
   "cell_type": "code",
   "execution_count": 6,
   "metadata": {
    "id": "rBB8sL9-w1M0"
   },
   "outputs": [],
   "source": [
    "from IPython.display import clear_output\n",
    "import sys"
   ]
  },
  {
   "cell_type": "code",
   "execution_count": 7,
   "metadata": {
    "id": "YMW-lvzAtue4"
   },
   "outputs": [],
   "source": [
    "def train_network(network, train_loader, loss, epochs, learning_rate, hidden_size, device='cuda', num_layers=1):\n",
    "    optimizer = torch.optim.Adam(network.parameters(), lr=learning_rate)\n",
    "    train_loss_epochs = []\n",
    "    network = network.to(device)\n",
    "    network.train()\n",
    "    try:\n",
    "        for epoch in range(epochs):\n",
    "            losses = []\n",
    "            network.zero_grad()\n",
    "            for X, y in train_loader:\n",
    "              X = X.type(dtype = torch.FloatTensor)\n",
    "              X = X.to(device)\n",
    "              y = y.to(device)\n",
    "              hidden = (torch.zeros(1, 1, network.hidden_size).to(device),\n",
    "                        torch.zeros(1, 1, network.hidden_size).to(device))\n",
    "              prediction, _ = network(X, hidden)\n",
    "              loss_step = loss(y.to(device), prediction.to(device))\n",
    "              optimizer.zero_grad()\n",
    "              loss_step.backward()\n",
    "              optimizer.step()\n",
    "  \n",
    "            train_loss_epochs.append(loss_step)\n",
    "            clear_output(True)\n",
    "            sys.stdout.write('\\rEpoch {0}... (Train) LOSS: {1:.3f}'.format(\n",
    "                            epoch, train_loss_epochs[-1]))\n",
    "            plot = True\n",
    "            if plot:\n",
    "                plt.figure(figsize=(12, 5))\n",
    "                plt.subplot(1, 2, 1)\n",
    "                plt.plot(train_loss_epochs, label='Train')\n",
    "                plt.xlabel('Epochs', fontsize=16)\n",
    "                plt.ylabel('Loss', fontsize=16)\n",
    "                plt.legend(loc=0, fontsize=16)\n",
    "                plt.grid('on')\n",
    "                plt.show()\n",
    "    except KeyboardInterrupt:\n",
    "        pass\n",
    "    return train_loss_epochs"
   ]
  },
  {
   "cell_type": "markdown",
   "metadata": {
    "collapsed": true,
    "id": "ZxtdnCnH7eGg"
   },
   "source": [
    "## Задание 2"
   ]
  },
  {
   "cell_type": "markdown",
   "metadata": {
    "id": "znumxHqT7eGg"
   },
   "source": [
    "Используя свою реализацию LSTM и torch.nn.LSTM (torch.nn.GRU) решить задачу предсказания временного ряда.\n",
    "Попробуйте разные длины входной и выходной последовательности.\n",
    "С помощью обученной сети получить из train-части временного ряда test-часть."
   ]
  },
  {
   "cell_type": "markdown",
   "metadata": {
    "id": "ICl-1P9B7eGh"
   },
   "source": [
    "Данные о количестве пассажиров\n",
    "https://datamarket.com/data/set/22u3/international-airline-passengers-monthly-totals-in-thousands-jan-49-dec-60#!ds=22u3&display=line"
   ]
  },
  {
   "cell_type": "code",
   "execution_count": 8,
   "metadata": {
    "colab": {
     "base_uri": "https://localhost:8080/",
     "height": 265
    },
    "id": "ZOnSvGOx7eGh",
    "outputId": "224df47f-7cb4-4107-d2f7-e859c1f20869"
   },
   "outputs": [
    {
     "data": {
      "image/png": "[encoded data removed]",
      "text/plain": [
       "<Figure size 432x288 with 1 Axes>"
      ]
     },
     "metadata": {
      "needs_background": "light",
      "tags": []
     },
     "output_type": "display_data"
    }
   ],
   "source": [
    "%matplotlib inline\n",
    "dataset = pandas.read_csv('international-airline-passengers.csv', usecols=[1], delimiter=\";\", engine='python', skipfooter=3)\n",
    "plt.plot(dataset)\n",
    "plt.show()"
   ]
  },
  {
   "cell_type": "code",
   "execution_count": 9,
   "metadata": {
    "id": "B3_fnEo57eGi"
   },
   "outputs": [],
   "source": [
    "# подготовливаем данные\n",
    "\n",
    "dataset = dataset.values\n",
    "dataset = dataset.astype('float32')\n",
    "scaler = MinMaxScaler(feature_range=(0, 1))\n",
    "dataset = scaler.fit_transform(dataset)"
   ]
  },
  {
   "cell_type": "code",
   "execution_count": 10,
   "metadata": {
    "colab": {
     "base_uri": "https://localhost:8080/"
    },
    "id": "szGO73287eGj",
    "outputId": "619f0308-f59b-4bc4-d986-2469f7a54f1a"
   },
   "outputs": [
    {
     "name": "stdout",
     "output_type": "stream",
     "text": [
      "96 48\n"
     ]
    }
   ],
   "source": [
    "# разбиваем данные на train / test\n",
    "train_size = int(len(dataset) * 0.67)\n",
    "test_size = len(dataset) - train_size\n",
    "train, test = dataset[0:train_size,:], dataset[train_size:len(dataset),:]\n",
    "print(len(train), len(test))\n"
   ]
  },
  {
   "cell_type": "code",
   "execution_count": 11,
   "metadata": {
    "id": "ksQL3AoC7eGj"
   },
   "outputs": [],
   "source": [
    "# Целевая переменная - сдвинутая последовательность значений входов\n",
    "\n",
    "def create_dataset(dataset, look_back=1, look_forward=1):\n",
    "    dataX, dataY = [], []\n",
    "    for i in range(len(dataset)-look_back-1-look_forward):\n",
    "        a = dataset[i:(i+look_back), 0]\n",
    "        dataX.append(a)\n",
    "        dataY.append(dataset[i + look_back : (i + look_back + look_forward), 0])\n",
    "\n",
    "    return np.array(dataX), np.array(dataY)"
   ]
  },
  {
   "cell_type": "code",
   "execution_count": 12,
   "metadata": {
    "id": "wsdb7Nv27eGk"
   },
   "outputs": [],
   "source": [
    "# Пример подготовленных данных\n",
    "\n",
    "look_back = 15\n",
    "look_forward= 2\n",
    "trainX, trainY = create_dataset(train, look_back, look_forward)\n",
    "testX, testY = create_dataset(test, look_back, look_forward)\n",
    "\n",
    "trainX = np.reshape(trainX, (trainX.shape[0], 1, trainX.shape[1]))\n",
    "testX = np.reshape(testX, (testX.shape[0], 1, testX.shape[1]))"
   ]
  },
  {
   "cell_type": "code",
   "execution_count": 13,
   "metadata": {
    "id": "LAK3BAh07eGl"
   },
   "outputs": [],
   "source": [
    "train_dataset = TensorDataset(torch.from_numpy(trainX), torch.from_numpy(trainY))"
   ]
  },
  {
   "cell_type": "code",
   "execution_count": 14,
   "metadata": {
    "id": "sHfPUoZP7eGl"
   },
   "outputs": [],
   "source": [
    "train_dataloader =  DataLoader(train_dataset, batch_size=5)"
   ]
  },
  {
   "cell_type": "code",
   "execution_count": 15,
   "metadata": {
    "id": "iFGaWPwT7eGm"
   },
   "outputs": [],
   "source": [
    "test_dataset = TensorDataset(torch.from_numpy(testX), torch.from_numpy(testY))"
   ]
  },
  {
   "cell_type": "code",
   "execution_count": 16,
   "metadata": {
    "id": "bpS_jjhS7eGn"
   },
   "outputs": [],
   "source": [
    "test_dataloader =  DataLoader(test_dataset, batch_size=5)"
   ]
  },
  {
   "cell_type": "code",
   "execution_count": 17,
   "metadata": {
    "id": "lmjW_l2y7eGn"
   },
   "outputs": [],
   "source": [
    "lstm =  nn.LSTM(hidden_size=look_forward, input_size=look_back)"
   ]
  },
  {
   "cell_type": "code",
   "execution_count": 18,
   "metadata": {
    "colab": {
     "base_uri": "https://localhost:8080/",
     "height": 1000
    },
    "id": "PXY5VVZUaIwV",
    "outputId": "8e812776-6429-43c1-923b-90f636460ac6"
   },
   "outputs": [
    {
     "name": "stdout",
     "output_type": "stream",
     "text": [
      "\r",
      "Epoch 99... (Train) LOSS: 0.015"
     ]
    },
    {
     "data": {
      "image/png": "[encoded data removed]",
      "text/plain": [
       "<Figure size 864x360 with 1 Axes>"
      ]
     },
     "metadata": {
      "needs_background": "light",
      "tags": []
     },
     "output_type": "display_data"
    },
    {
     "data": {
      "text/plain": [
       "[tensor(0.2041, device='cuda:0', grad_fn=<MseLossBackward>),\n",
       " tensor(0.1936, device='cuda:0', grad_fn=<MseLossBackward>),\n",
       " tensor(0.1850, device='cuda:0', grad_fn=<MseLossBackward>),\n",
       " tensor(0.1766, device='cuda:0', grad_fn=<MseLossBackward>),\n",
       " tensor(0.1675, device='cuda:0', grad_fn=<MseLossBackward>),\n",
       " tensor(0.1573, device='cuda:0', grad_fn=<MseLossBackward>),\n",
       " tensor(0.1464, device='cuda:0', grad_fn=<MseLossBackward>),\n",
       " tensor(0.1351, device='cuda:0', grad_fn=<MseLossBackward>),\n",
       " tensor(0.1244, device='cuda:0', grad_fn=<MseLossBackward>),\n",
       " tensor(0.1147, device='cuda:0', grad_fn=<MseLossBackward>),\n",
       " tensor(0.1064, device='cuda:0', grad_fn=<MseLossBackward>),\n",
       " tensor(0.0997, device='cuda:0', grad_fn=<MseLossBackward>),\n",
       " tensor(0.0944, device='cuda:0', grad_fn=<MseLossBackward>),\n",
       " tensor(0.0902, device='cuda:0', grad_fn=<MseLossBackward>),\n",
       " tensor(0.0868, device='cuda:0', grad_fn=<MseLossBackward>),\n",
       " tensor(0.0839, device='cuda:0', grad_fn=<MseLossBackward>),\n",
       " tensor(0.0814, device='cuda:0', grad_fn=<MseLossBackward>),\n",
       " tensor(0.0792, device='cuda:0', grad_fn=<MseLossBackward>),\n",
       " tensor(0.0771, device='cuda:0', grad_fn=<MseLossBackward>),\n",
       " tensor(0.0752, device='cuda:0', grad_fn=<MseLossBackward>),\n",
       " tensor(0.0734, device='cuda:0', grad_fn=<MseLossBackward>),\n",
       " tensor(0.0717, device='cuda:0', grad_fn=<MseLossBackward>),\n",
       " tensor(0.0700, device='cuda:0', grad_fn=<MseLossBackward>),\n",
       " tensor(0.0683, device='cuda:0', grad_fn=<MseLossBackward>),\n",
       " tensor(0.0667, device='cuda:0', grad_fn=<MseLossBackward>),\n",
       " tensor(0.0652, device='cuda:0', grad_fn=<MseLossBackward>),\n",
       " tensor(0.0637, device='cuda:0', grad_fn=<MseLossBackward>),\n",
       " tensor(0.0622, device='cuda:0', grad_fn=<MseLossBackward>),\n",
       " tensor(0.0607, device='cuda:0', grad_fn=<MseLossBackward>),\n",
       " tensor(0.0592, device='cuda:0', grad_fn=<MseLossBackward>),\n",
       " tensor(0.0578, device='cuda:0', grad_fn=<MseLossBackward>),\n",
       " tensor(0.0564, device='cuda:0', grad_fn=<MseLossBackward>),\n",
       " tensor(0.0550, device='cuda:0', grad_fn=<MseLossBackward>),\n",
       " tensor(0.0537, device='cuda:0', grad_fn=<MseLossBackward>),\n",
       " tensor(0.0524, device='cuda:0', grad_fn=<MseLossBackward>),\n",
       " tensor(0.0511, device='cuda:0', grad_fn=<MseLossBackward>),\n",
       " tensor(0.0498, device='cuda:0', grad_fn=<MseLossBackward>),\n",
       " tensor(0.0485, device='cuda:0', grad_fn=<MseLossBackward>),\n",
       " tensor(0.0473, device='cuda:0', grad_fn=<MseLossBackward>),\n",
       " tensor(0.0462, device='cuda:0', grad_fn=<MseLossBackward>),\n",
       " tensor(0.0450, device='cuda:0', grad_fn=<MseLossBackward>),\n",
       " tensor(0.0439, device='cuda:0', grad_fn=<MseLossBackward>),\n",
       " tensor(0.0428, device='cuda:0', grad_fn=<MseLossBackward>),\n",
       " tensor(0.0417, device='cuda:0', grad_fn=<MseLossBackward>),\n",
       " tensor(0.0407, device='cuda:0', grad_fn=<MseLossBackward>),\n",
       " tensor(0.0397, device='cuda:0', grad_fn=<MseLossBackward>),\n",
       " tensor(0.0387, device='cuda:0', grad_fn=<MseLossBackward>),\n",
       " tensor(0.0378, device='cuda:0', grad_fn=<MseLossBackward>),\n",
       " tensor(0.0369, device='cuda:0', grad_fn=<MseLossBackward>),\n",
       " tensor(0.0360, device='cuda:0', grad_fn=<MseLossBackward>),\n",
       " tensor(0.0352, device='cuda:0', grad_fn=<MseLossBackward>),\n",
       " tensor(0.0344, device='cuda:0', grad_fn=<MseLossBackward>),\n",
       " tensor(0.0336, device='cuda:0', grad_fn=<MseLossBackward>),\n",
       " tensor(0.0328, device='cuda:0', grad_fn=<MseLossBackward>),\n",
       " tensor(0.0321, device='cuda:0', grad_fn=<MseLossBackward>),\n",
       " tensor(0.0313, device='cuda:0', grad_fn=<MseLossBackward>),\n",
       " tensor(0.0307, device='cuda:0', grad_fn=<MseLossBackward>),\n",
       " tensor(0.0300, device='cuda:0', grad_fn=<MseLossBackward>),\n",
       " tensor(0.0293, device='cuda:0', grad_fn=<MseLossBackward>),\n",
       " tensor(0.0287, device='cuda:0', grad_fn=<MseLossBackward>),\n",
       " tensor(0.0281, device='cuda:0', grad_fn=<MseLossBackward>),\n",
       " tensor(0.0275, device='cuda:0', grad_fn=<MseLossBackward>),\n",
       " tensor(0.0270, device='cuda:0', grad_fn=<MseLossBackward>),\n",
       " tensor(0.0264, device='cuda:0', grad_fn=<MseLossBackward>),\n",
       " tensor(0.0259, device='cuda:0', grad_fn=<MseLossBackward>),\n",
       " tensor(0.0254, device='cuda:0', grad_fn=<MseLossBackward>),\n",
       " tensor(0.0249, device='cuda:0', grad_fn=<MseLossBackward>),\n",
       " tensor(0.0245, device='cuda:0', grad_fn=<MseLossBackward>),\n",
       " tensor(0.0240, device='cuda:0', grad_fn=<MseLossBackward>),\n",
       " tensor(0.0236, device='cuda:0', grad_fn=<MseLossBackward>),\n",
       " tensor(0.0231, device='cuda:0', grad_fn=<MseLossBackward>),\n",
       " tensor(0.0227, device='cuda:0', grad_fn=<MseLossBackward>),\n",
       " tensor(0.0223, device='cuda:0', grad_fn=<MseLossBackward>),\n",
       " tensor(0.0219, device='cuda:0', grad_fn=<MseLossBackward>),\n",
       " tensor(0.0215, device='cuda:0', grad_fn=<MseLossBackward>),\n",
       " tensor(0.0212, device='cuda:0', grad_fn=<MseLossBackward>),\n",
       " tensor(0.0208, device='cuda:0', grad_fn=<MseLossBackward>),\n",
       " tensor(0.0205, device='cuda:0', grad_fn=<MseLossBackward>),\n",
       " tensor(0.0201, device='cuda:0', grad_fn=<MseLossBackward>),\n",
       " tensor(0.0198, device='cuda:0', grad_fn=<MseLossBackward>),\n",
       " tensor(0.0195, device='cuda:0', grad_fn=<MseLossBackward>),\n",
       " tensor(0.0192, device='cuda:0', grad_fn=<MseLossBackward>),\n",
       " tensor(0.0189, device='cuda:0', grad_fn=<MseLossBackward>),\n",
       " tensor(0.0186, device='cuda:0', grad_fn=<MseLossBackward>),\n",
       " tensor(0.0183, device='cuda:0', grad_fn=<MseLossBackward>),\n",
       " tensor(0.0181, device='cuda:0', grad_fn=<MseLossBackward>),\n",
       " tensor(0.0178, device='cuda:0', grad_fn=<MseLossBackward>),\n",
       " tensor(0.0175, device='cuda:0', grad_fn=<MseLossBackward>),\n",
       " tensor(0.0173, device='cuda:0', grad_fn=<MseLossBackward>),\n",
       " tensor(0.0170, device='cuda:0', grad_fn=<MseLossBackward>),\n",
       " tensor(0.0168, device='cuda:0', grad_fn=<MseLossBackward>),\n",
       " tensor(0.0166, device='cuda:0', grad_fn=<MseLossBackward>),\n",
       " tensor(0.0163, device='cuda:0', grad_fn=<MseLossBackward>),\n",
       " tensor(0.0161, device='cuda:0', grad_fn=<MseLossBackward>),\n",
       " tensor(0.0159, device='cuda:0', grad_fn=<MseLossBackward>),\n",
       " tensor(0.0157, device='cuda:0', grad_fn=<MseLossBackward>),\n",
       " tensor(0.0155, device='cuda:0', grad_fn=<MseLossBackward>),\n",
       " tensor(0.0153, device='cuda:0', grad_fn=<MseLossBackward>),\n",
       " tensor(0.0151, device='cuda:0', grad_fn=<MseLossBackward>),\n",
       " tensor(0.0149, device='cuda:0', grad_fn=<MseLossBackward>)]"
      ]
     },
     "execution_count": 18,
     "metadata": {
      "tags": []
     },
     "output_type": "execute_result"
    }
   ],
   "source": [
    "train_network(lstm, train_dataloader, nn.MSELoss(), 100, 0.001, look_forward)"
   ]
  },
  {
   "cell_type": "code",
   "execution_count": 19,
   "metadata": {
    "id": "0KM8QZRVa1K1"
   },
   "outputs": [],
   "source": [
    "my_lstm = LSTM(hidden_size=look_forward, input_size=look_back)"
   ]
  },
  {
   "cell_type": "code",
   "execution_count": 20,
   "metadata": {
    "colab": {
     "base_uri": "https://localhost:8080/",
     "height": 1000
    },
    "id": "j1hWj8ch0oCn",
    "outputId": "bdfd89ac-72b2-40df-a517-f6aca591138d"
   },
   "outputs": [
    {
     "name": "stdout",
     "output_type": "stream",
     "text": [
      "\r",
      "Epoch 99... (Train) LOSS: 0.008"
     ]
    },
    {
     "data": {
      "image/png": "[encoded data removed]",
      "text/plain": [
       "<Figure size 864x360 with 1 Axes>"
      ]
     },
     "metadata": {
      "needs_background": "light",
      "tags": []
     },
     "output_type": "display_data"
    },
    {
     "data": {
      "text/plain": [
       "[tensor(0.2359, device='cuda:0', grad_fn=<MseLossBackward>),\n",
       " tensor(0.1976, device='cuda:0', grad_fn=<MseLossBackward>),\n",
       " tensor(0.1594, device='cuda:0', grad_fn=<MseLossBackward>),\n",
       " tensor(0.1244, device='cuda:0', grad_fn=<MseLossBackward>),\n",
       " tensor(0.0956, device='cuda:0', grad_fn=<MseLossBackward>),\n",
       " tensor(0.0745, device='cuda:0', grad_fn=<MseLossBackward>),\n",
       " tensor(0.0607, device='cuda:0', grad_fn=<MseLossBackward>),\n",
       " tensor(0.0524, device='cuda:0', grad_fn=<MseLossBackward>),\n",
       " tensor(0.0476, device='cuda:0', grad_fn=<MseLossBackward>),\n",
       " tensor(0.0447, device='cuda:0', grad_fn=<MseLossBackward>),\n",
       " tensor(0.0428, device='cuda:0', grad_fn=<MseLossBackward>),\n",
       " tensor(0.0413, device='cuda:0', grad_fn=<MseLossBackward>),\n",
       " tensor(0.0401, device='cuda:0', grad_fn=<MseLossBackward>),\n",
       " tensor(0.0390, device='cuda:0', grad_fn=<MseLossBackward>),\n",
       " tensor(0.0379, device='cuda:0', grad_fn=<MseLossBackward>),\n",
       " tensor(0.0369, device='cuda:0', grad_fn=<MseLossBackward>),\n",
       " tensor(0.0359, device='cuda:0', grad_fn=<MseLossBackward>),\n",
       " tensor(0.0349, device='cuda:0', grad_fn=<MseLossBackward>),\n",
       " tensor(0.0339, device='cuda:0', grad_fn=<MseLossBackward>),\n",
       " tensor(0.0330, device='cuda:0', grad_fn=<MseLossBackward>),\n",
       " tensor(0.0321, device='cuda:0', grad_fn=<MseLossBackward>),\n",
       " tensor(0.0312, device='cuda:0', grad_fn=<MseLossBackward>),\n",
       " tensor(0.0303, device='cuda:0', grad_fn=<MseLossBackward>),\n",
       " tensor(0.0295, device='cuda:0', grad_fn=<MseLossBackward>),\n",
       " tensor(0.0287, device='cuda:0', grad_fn=<MseLossBackward>),\n",
       " tensor(0.0279, device='cuda:0', grad_fn=<MseLossBackward>),\n",
       " tensor(0.0272, device='cuda:0', grad_fn=<MseLossBackward>),\n",
       " tensor(0.0264, device='cuda:0', grad_fn=<MseLossBackward>),\n",
       " tensor(0.0257, device='cuda:0', grad_fn=<MseLossBackward>),\n",
       " tensor(0.0250, device='cuda:0', grad_fn=<MseLossBackward>),\n",
       " tensor(0.0244, device='cuda:0', grad_fn=<MseLossBackward>),\n",
       " tensor(0.0238, device='cuda:0', grad_fn=<MseLossBackward>),\n",
       " tensor(0.0231, device='cuda:0', grad_fn=<MseLossBackward>),\n",
       " tensor(0.0225, device='cuda:0', grad_fn=<MseLossBackward>),\n",
       " tensor(0.0220, device='cuda:0', grad_fn=<MseLossBackward>),\n",
       " tensor(0.0214, device='cuda:0', grad_fn=<MseLossBackward>),\n",
       " tensor(0.0209, device='cuda:0', grad_fn=<MseLossBackward>),\n",
       " tensor(0.0204, device='cuda:0', grad_fn=<MseLossBackward>),\n",
       " tensor(0.0199, device='cuda:0', grad_fn=<MseLossBackward>),\n",
       " tensor(0.0194, device='cuda:0', grad_fn=<MseLossBackward>),\n",
       " tensor(0.0190, device='cuda:0', grad_fn=<MseLossBackward>),\n",
       " tensor(0.0185, device='cuda:0', grad_fn=<MseLossBackward>),\n",
       " tensor(0.0181, device='cuda:0', grad_fn=<MseLossBackward>),\n",
       " tensor(0.0177, device='cuda:0', grad_fn=<MseLossBackward>),\n",
       " tensor(0.0173, device='cuda:0', grad_fn=<MseLossBackward>),\n",
       " tensor(0.0169, device='cuda:0', grad_fn=<MseLossBackward>),\n",
       " tensor(0.0166, device='cuda:0', grad_fn=<MseLossBackward>),\n",
       " tensor(0.0162, device='cuda:0', grad_fn=<MseLossBackward>),\n",
       " tensor(0.0159, device='cuda:0', grad_fn=<MseLossBackward>),\n",
       " tensor(0.0156, device='cuda:0', grad_fn=<MseLossBackward>),\n",
       " tensor(0.0152, device='cuda:0', grad_fn=<MseLossBackward>),\n",
       " tensor(0.0149, device='cuda:0', grad_fn=<MseLossBackward>),\n",
       " tensor(0.0146, device='cuda:0', grad_fn=<MseLossBackward>),\n",
       " tensor(0.0144, device='cuda:0', grad_fn=<MseLossBackward>),\n",
       " tensor(0.0141, device='cuda:0', grad_fn=<MseLossBackward>),\n",
       " tensor(0.0138, device='cuda:0', grad_fn=<MseLossBackward>),\n",
       " tensor(0.0136, device='cuda:0', grad_fn=<MseLossBackward>),\n",
       " tensor(0.0133, device='cuda:0', grad_fn=<MseLossBackward>),\n",
       " tensor(0.0131, device='cuda:0', grad_fn=<MseLossBackward>),\n",
       " tensor(0.0129, device='cuda:0', grad_fn=<MseLossBackward>),\n",
       " tensor(0.0127, device='cuda:0', grad_fn=<MseLossBackward>),\n",
       " tensor(0.0124, device='cuda:0', grad_fn=<MseLossBackward>),\n",
       " tensor(0.0122, device='cuda:0', grad_fn=<MseLossBackward>),\n",
       " tensor(0.0120, device='cuda:0', grad_fn=<MseLossBackward>),\n",
       " tensor(0.0119, device='cuda:0', grad_fn=<MseLossBackward>),\n",
       " tensor(0.0117, device='cuda:0', grad_fn=<MseLossBackward>),\n",
       " tensor(0.0115, device='cuda:0', grad_fn=<MseLossBackward>),\n",
       " tensor(0.0113, device='cuda:0', grad_fn=<MseLossBackward>),\n",
       " tensor(0.0112, device='cuda:0', grad_fn=<MseLossBackward>),\n",
       " tensor(0.0110, device='cuda:0', grad_fn=<MseLossBackward>),\n",
       " tensor(0.0109, device='cuda:0', grad_fn=<MseLossBackward>),\n",
       " tensor(0.0107, device='cuda:0', grad_fn=<MseLossBackward>),\n",
       " tensor(0.0106, device='cuda:0', grad_fn=<MseLossBackward>),\n",
       " tensor(0.0104, device='cuda:0', grad_fn=<MseLossBackward>),\n",
       " tensor(0.0103, device='cuda:0', grad_fn=<MseLossBackward>),\n",
       " tensor(0.0102, device='cuda:0', grad_fn=<MseLossBackward>),\n",
       " tensor(0.0100, device='cuda:0', grad_fn=<MseLossBackward>),\n",
       " tensor(0.0099, device='cuda:0', grad_fn=<MseLossBackward>),\n",
       " tensor(0.0098, device='cuda:0', grad_fn=<MseLossBackward>),\n",
       " tensor(0.0097, device='cuda:0', grad_fn=<MseLossBackward>),\n",
       " tensor(0.0096, device='cuda:0', grad_fn=<MseLossBackward>),\n",
       " tensor(0.0095, device='cuda:0', grad_fn=<MseLossBackward>),\n",
       " tensor(0.0094, device='cuda:0', grad_fn=<MseLossBackward>),\n",
       " tensor(0.0093, device='cuda:0', grad_fn=<MseLossBackward>),\n",
       " tensor(0.0092, device='cuda:0', grad_fn=<MseLossBackward>),\n",
       " tensor(0.0091, device='cuda:0', grad_fn=<MseLossBackward>),\n",
       " tensor(0.0090, device='cuda:0', grad_fn=<MseLossBackward>),\n",
       " tensor(0.0089, device='cuda:0', grad_fn=<MseLossBackward>),\n",
       " tensor(0.0088, device='cuda:0', grad_fn=<MseLossBackward>),\n",
       " tensor(0.0087, device='cuda:0', grad_fn=<MseLossBackward>),\n",
       " tensor(0.0087, device='cuda:0', grad_fn=<MseLossBackward>),\n",
       " tensor(0.0086, device='cuda:0', grad_fn=<MseLossBackward>),\n",
       " tensor(0.0085, device='cuda:0', grad_fn=<MseLossBackward>),\n",
       " tensor(0.0084, device='cuda:0', grad_fn=<MseLossBackward>),\n",
       " tensor(0.0084, device='cuda:0', grad_fn=<MseLossBackward>),\n",
       " tensor(0.0083, device='cuda:0', grad_fn=<MseLossBackward>),\n",
       " tensor(0.0082, device='cuda:0', grad_fn=<MseLossBackward>),\n",
       " tensor(0.0082, device='cuda:0', grad_fn=<MseLossBackward>),\n",
       " tensor(0.0081, device='cuda:0', grad_fn=<MseLossBackward>),\n",
       " tensor(0.0081, device='cuda:0', grad_fn=<MseLossBackward>)]"
      ]
     },
     "execution_count": 20,
     "metadata": {
      "tags": []
     },
     "output_type": "execute_result"
    }
   ],
   "source": [
    "train_network(my_lstm, train_dataloader, nn.MSELoss(), 100, 0.001, look_forward)"
   ]
  },
  {
   "cell_type": "code",
   "execution_count": 21,
   "metadata": {
    "id": "WS-soeFC7eGt"
   },
   "outputs": [],
   "source": [
    "train, test = dataset[0:train_size,:], dataset[train_size:len(dataset),:]"
   ]
  },
  {
   "cell_type": "code",
   "execution_count": 22,
   "metadata": {
    "colab": {
     "base_uri": "https://localhost:8080/",
     "height": 282
    },
    "id": "xoWxm-KB7eGt",
    "outputId": "f33499a0-4d98-441c-95e2-1f974d25502f"
   },
   "outputs": [
    {
     "data": {
      "text/plain": [
       "[<matplotlib.lines.Line2D at 0x7f90e19e5b90>]"
      ]
     },
     "execution_count": 22,
     "metadata": {
      "tags": []
     },
     "output_type": "execute_result"
    },
    {
     "data": {
      "image/png": "[encoded data removed]",
      "text/plain": [
       "<Figure size 432x288 with 1 Axes>"
      ]
     },
     "metadata": {
      "needs_background": "light",
      "tags": []
     },
     "output_type": "display_data"
    }
   ],
   "source": [
    "ovr = np.hstack((train[:, 0], test[:, 0]))\n",
    "plt.plot(ovr)"
   ]
  },
  {
   "cell_type": "code",
   "execution_count": 23,
   "metadata": {
    "id": "7-faVuIU7eGs"
   },
   "outputs": [],
   "source": [
    "def return_predicted(model, hidden_size, device='cpu'):\n",
    "    hidden = (torch.zeros(1, 1, model.hidden_size).to(device),\n",
    "              torch.ones(1, 1, model.hidden_size).to(device))\n",
    "    predicted = []\n",
    "    model.to(device)\n",
    "    model.zero_grad()\n",
    "    for x, y in test_dataloader:\n",
    "        predY, hidden = model(x.to(device), hidden)\n",
    "        predicted += list(predY[:, 0, 0])\n",
    "    return predicted\n",
    "\n",
    "def plot_model(model, ovr, test, hidden_size, device='cpu'):\n",
    "    pred = return_predicted(model, test, device)\n",
    "    pred = [i.item() for i in pred]\n",
    "    ovr[-len(pred):] = pred\n",
    "    plt.plot(ovr)"
   ]
  },
  {
   "cell_type": "code",
   "execution_count": 24,
   "metadata": {
    "colab": {
     "base_uri": "https://localhost:8080/",
     "height": 265
    },
    "id": "IZrSC2MP7eGu",
    "outputId": "d03dcee1-8013-4c20-ce72-5e67bdde88e0"
   },
   "outputs": [
    {
     "data": {
      "image/png": "[encoded data removed]",
      "text/plain": [
       "<Figure size 432x288 with 1 Axes>"
      ]
     },
     "metadata": {
      "needs_background": "light",
      "tags": []
     },
     "output_type": "display_data"
    }
   ],
   "source": [
    "plot_model(lstm, ovr, test_dataloader, look_forward, 'cuda')"
   ]
  },
  {
   "cell_type": "code",
   "execution_count": 25,
   "metadata": {
    "colab": {
     "base_uri": "https://localhost:8080/",
     "height": 265
    },
    "id": "96HN6QFV7eGu",
    "outputId": "146f923b-a31d-4290-f941-e408a35a6812"
   },
   "outputs": [
    {
     "data": {
      "image/png": "[encoded data removed]",
      "text/plain": [
       "<Figure size 432x288 with 1 Axes>"
      ]
     },
     "metadata": {
      "needs_background": "light",
      "tags": []
     },
     "output_type": "display_data"
    }
   ],
   "source": [
    "plot_model(my_lstm, ovr, look_forward, 'cuda')"
   ]
  },
  {
   "cell_type": "markdown",
   "metadata": {
    "id": "RcD5v4TH7eGv"
   },
   "source": [
    "## Задание 3 \n",
    "\n",
    "Поучаствуйте в соревновании https://www.kaggle.com/t/374fc477c4744b009a837153ce135cfb \n",
    "\n",
    "Для зачета задания нужно получить значение MAPE меньше 0.2\n",
    "\n",
    "До 1 мая 2021 можно получить 3,2,1 дополнительных балла за 1, 2 и 3 место соответственно.\n",
    "\n",
    "\n",
    "Опиционально: сравните классические подходы (ARIMA, gradient boosting trees и RNN)"
   ]
  },
  {
   "cell_type": "code",
   "execution_count": 26,
   "metadata": {
    "id": "FQrnqh9FXqgT"
   },
   "outputs": [],
   "source": [
    "def train_network(network, train_loader, loss, epochs, learning_rate, hidden_size, device='cuda', num_layers=1):\n",
    "    optimizer = torch.optim.Adam(network.parameters(), lr=learning_rate)\n",
    "    train_loss_epochs = []\n",
    "    losses = []\n",
    "    network = network.to(device)\n",
    "    network.train()\n",
    "    try:\n",
    "        for epoch in range(epochs):\n",
    "            losses = []\n",
    "            network.zero_grad()\n",
    "            for X, y in train_loader:\n",
    "              X = X.type(dtype = torch.FloatTensor)\n",
    "              X = X.to(device)\n",
    "              y = y.to(device)\n",
    "              hidden = (torch.zeros(X.shape[1], network.hidden_size).to(device),\n",
    "                        torch.zeros(X.shape[1], network.hidden_size).to(device))\n",
    "              prediction = network(X, hidden)\n",
    "              loss_step = loss(y.to(device), prediction.to(device))\n",
    "              optimizer.zero_grad()\n",
    "              loss_step.backward()\n",
    "              optimizer.step()\n",
    "              losses.append(loss_step.item())\n",
    "  \n",
    "            train_loss_epochs.append(np.mean(losses))\n",
    "            clear_output(True)\n",
    "            sys.stdout.write('\\rEpoch {0}... (Train) LOSS: {1:.3f}'.format(\n",
    "                            epoch, train_loss_epochs[-1]))\n",
    "            plot = True\n",
    "            if plot:\n",
    "                plt.figure(figsize=(12, 5))\n",
    "                plt.subplot(1, 2, 1)\n",
    "                plt.plot(train_loss_epochs, label='Train')\n",
    "                plt.xlabel('Epochs', fontsize=16)\n",
    "                plt.ylabel('Loss', fontsize=16)\n",
    "                plt.legend(loc=0, fontsize=16)\n",
    "                plt.grid('on')\n",
    "                plt.show()\n",
    "    except KeyboardInterrupt:\n",
    "        pass\n",
    "    return train_loss_epochs"
   ]
  },
  {
   "cell_type": "code",
   "execution_count": 27,
   "metadata": {
    "id": "3Jy_ORJtV7a7"
   },
   "outputs": [],
   "source": [
    "class my_LSTM(nn.Module):\n",
    "  def __init__(self, inp_size, hid_size, out_size):\n",
    "        super(my_LSTM, self).__init__()\n",
    "        self.hidden_size = hid_size\n",
    "        self.output_size = out_size\n",
    "        self.lstm        = LSTM(inp_size,  self.hidden_size)\n",
    "        self.linear      = nn.Sequential(nn.Linear(self.hidden_size, 128))\n",
    "        self.conv_blocks = nn.Sequential(nn.Conv2d(1, 32, 3, 2),\n",
    "                                         nn.ReLU(),\n",
    "                                         nn.Conv2d(32, 64, 3, 2),\n",
    "                                         nn.ReLU())\n",
    "        self.last_linear = nn.Sequential(nn.Linear(192, self.output_size))\n",
    "      \n",
    "  def forward(self, X, hidden):\n",
    "        output, _ = self.lstm(X, hidden)\n",
    "        output    = output.view(X.shape[0], -1)\n",
    "        output    = self.linear(output.to('cuda'))\n",
    "        output    = output.view(X.shape[0], 1, 8, 16)\n",
    "        output    = self.conv_blocks(output)\n",
    "        output    = output.view(X.shape[0], -1)\n",
    "        output    = self.last_linear(output)\n",
    "        return output"
   ]
  },
  {
   "cell_type": "code",
   "execution_count": 28,
   "metadata": {
    "colab": {
     "base_uri": "https://localhost:8080/",
     "height": 276
    },
    "id": "zQ-rK1BZ7eGv",
    "outputId": "f704ad63-32ae-43b0-83cd-3da19085202d"
   },
   "outputs": [
    {
     "data": {
      "image/png": "[encoded data removed]",
      "text/plain": [
       "<Figure size 432x288 with 1 Axes>"
      ]
     },
     "metadata": {
      "needs_background": "light",
      "tags": []
     },
     "output_type": "display_data"
    }
   ],
   "source": [
    "data_original = pandas.read_csv('train.csv', usecols=[1], delimiter=\",\", engine='python', skipfooter=3)\n",
    "plt.plot(data_original)\n",
    "plt.show()"
   ]
  },
  {
   "cell_type": "code",
   "execution_count": 29,
   "metadata": {
    "id": "u7Edk_6K-Ip2"
   },
   "outputs": [],
   "source": [
    "data = data_original.astype('float32')\n",
    "scaler = MinMaxScaler(feature_range=(0, 1))\n",
    "data = scaler.fit_transform(data.values)\n",
    "\n",
    "def create_dataset(dataset, look_back=1, look_forward=1):\n",
    "    dataX, dataY = [], []\n",
    "    for i in range(len(dataset)-look_back-1-look_forward):\n",
    "        a = dataset[i:(i+look_back), 0]\n",
    "        dataX.append(a)\n",
    "        dataY.append(dataset[i + look_back : (i + look_back + look_forward), 0])\n",
    "\n",
    "    return np.array(dataX), np.array(dataY)\n",
    "\n",
    "look_back = 65\n",
    "look_forward = 1\n",
    "\n",
    "trainX, trainY = create_dataset(data, look_back, look_forward)\n",
    "trainX = np.reshape(trainX, (trainX.shape[0], 1, trainX.shape[1]))\n",
    "train_dataset = TensorDataset(torch.from_numpy(trainX), torch.from_numpy(trainY))\n",
    "train_dataloader = DataLoader(train_dataset, batch_size=5)"
   ]
  },
  {
   "cell_type": "code",
   "execution_count": 30,
   "metadata": {
    "id": "GZVyBaJM_Sno"
   },
   "outputs": [],
   "source": [
    "model = my_LSTM(look_back, 120, look_forward)"
   ]
  },
  {
   "cell_type": "code",
   "execution_count": 31,
   "metadata": {
    "colab": {
     "base_uri": "https://localhost:8080/",
     "height": 1000
    },
    "id": "zYxa7LUY_mCX",
    "outputId": "e09737b9-384c-457b-abbb-ffc575aa4bfe"
   },
   "outputs": [
    {
     "name": "stdout",
     "output_type": "stream",
     "text": [
      "\r",
      "Epoch 78... (Train) LOSS: 0.004"
     ]
    },
    {
     "data": {
      "image/png": "[encoded data removed]",
      "text/plain": [
       "<Figure size 864x360 with 1 Axes>"
      ]
     },
     "metadata": {
      "needs_background": "light",
      "tags": []
     },
     "output_type": "display_data"
    },
    {
     "data": {
      "text/plain": [
       "[0.04117963430347391,\n",
       " 0.019215786030789547,\n",
       " 0.015360641922633327,\n",
       " 0.014479520772634643,\n",
       " 0.014516863136979507,\n",
       " 0.014755652978599808,\n",
       " 0.015048961997997396,\n",
       " 0.01515649858848316,\n",
       " 0.015264871744416401,\n",
       " 0.016014657194248074,\n",
       " 0.015897404838274842,\n",
       " 0.016002901017980072,\n",
       " 0.015846245377546333,\n",
       " 0.01631863906873459,\n",
       " 0.016261580394447025,\n",
       " 0.01623303234569479,\n",
       " 0.015587700568838186,\n",
       " 0.014460822456014497,\n",
       " 0.015400630577345316,\n",
       " 0.014829445229445553,\n",
       " 0.013748193701970203,\n",
       " 0.013978147560301649,\n",
       " 0.013653996762531657,\n",
       " 0.013171202107311455,\n",
       " 0.01280765560431532,\n",
       " 0.012228594370382992,\n",
       " 0.011829683995546854,\n",
       " 0.011686716528874437,\n",
       " 0.011303203052396658,\n",
       " 0.010793703282686392,\n",
       " 0.010386269695109415,\n",
       " 0.010171514111877594,\n",
       " 0.009340296578786754,\n",
       " 0.009415004933102466,\n",
       " 0.009184911979194386,\n",
       " 0.00845921685516798,\n",
       " 0.008143069762473776,\n",
       " 0.007852067454240948,\n",
       " 0.00754668433835355,\n",
       " 0.007331463591328023,\n",
       " 0.006925048453021835,\n",
       " 0.0068010436853442515,\n",
       " 0.006491629894104706,\n",
       " 0.006377019196874756,\n",
       " 0.006038339354842534,\n",
       " 0.0059530993858944265,\n",
       " 0.005696382130462579,\n",
       " 0.005538878540127133,\n",
       " 0.005609240610053869,\n",
       " 0.005321477664941447,\n",
       " 0.00534876177965274,\n",
       " 0.005325225749790829,\n",
       " 0.004975257903000948,\n",
       " 0.005211135573703253,\n",
       " 0.005002789482143307,\n",
       " 0.004913812996959483,\n",
       " 0.004998612497782462,\n",
       " 0.004951300105072662,\n",
       " 0.004722057177274922,\n",
       " 0.0048417566268627405,\n",
       " 0.004731814884861114,\n",
       " 0.004697899270556342,\n",
       " 0.0045360832748362724,\n",
       " 0.004374005801385032,\n",
       " 0.004145302433226409,\n",
       " 0.004355079537613297,\n",
       " 0.004286520443572742,\n",
       " 0.004187923924777333,\n",
       " 0.004196000228899032,\n",
       " 0.004086893907352859,\n",
       " 0.004094934952537161,\n",
       " 0.003985154418480253,\n",
       " 0.0037942808865992243,\n",
       " 0.0038449270591583134,\n",
       " 0.0039336168669322135,\n",
       " 0.004240290874301174,\n",
       " 0.004072242037394071,\n",
       " 0.004182946980426564,\n",
       " 0.003728328140638147]"
      ]
     },
     "execution_count": 31,
     "metadata": {
      "tags": []
     },
     "output_type": "execute_result"
    }
   ],
   "source": [
    "train_network(model, train_dataloader, nn.MSELoss(), 100, 0.001, look_forward, 'cuda')"
   ]
  },
  {
   "cell_type": "code",
   "execution_count": 33,
   "metadata": {
    "id": "IPiZtkl4_p4j"
   },
   "outputs": [],
   "source": [
    "test = DataLoader(train_dataset, batch_size=1)\n",
    "\n",
    "def return_predicted(network, test, device='cuda'):\n",
    "    network = network.to(device)\n",
    "    preds = []\n",
    "    for X, y in test:\n",
    "        X = X.type(dtype=torch.FloatTensor)\n",
    "        hidden = (torch.zeros(X.shape[1], network.hidden_size).type(dtype=torch.FloatTensor).to(device),\n",
    "                  torch.zeros(X.shape[1], network.hidden_size).type(dtype=torch.FloatTensor).to(device))\n",
    "        X = X.to(device)\n",
    "        out = network(X, hidden)\n",
    "        preds.append(out)\n",
    "    return preds\n",
    "\n",
    "preds = return_predicted(model, test)"
   ]
  },
  {
   "cell_type": "code",
   "execution_count": 34,
   "metadata": {
    "id": "-fG_14LEeG_N"
   },
   "outputs": [],
   "source": [
    "from sklearn.metrics import mean_absolute_error"
   ]
  },
  {
   "cell_type": "code",
   "execution_count": 35,
   "metadata": {
    "colab": {
     "base_uri": "https://localhost:8080/"
    },
    "id": "RSCGBEgMXiTe",
    "outputId": "843e96f6-c42f-4d0f-cf62-30c7e11d5804"
   },
   "outputs": [
    {
     "name": "stderr",
     "output_type": "stream",
     "text": [
      "/usr/local/lib/python3.7/dist-packages/sklearn/utils/validation.py:63: FutureWarning: Arrays of bytes/strings is being converted to decimal numbers if dtype='numeric'. This behavior is deprecated in 0.24 and will be removed in 1.1 (renaming of 0.26). Please convert your data to numeric values explicitly instead.\n",
      "  return f(*args, **kwargs)\n"
     ]
    },
    {
     "data": {
      "text/plain": [
       "0.10396585455182468"
      ]
     },
     "execution_count": 35,
     "metadata": {
      "tags": []
     },
     "output_type": "execute_result"
    }
   ],
   "source": [
    "mean_absolute_error(trainY, preds)"
   ]
  },
  {
   "cell_type": "code",
   "execution_count": 36,
   "metadata": {
    "id": "HCaCLgiu1ziy"
   },
   "outputs": [],
   "source": [
    "test = data[-look_back:]"
   ]
  },
  {
   "cell_type": "code",
   "execution_count": 37,
   "metadata": {
    "id": "6-EAlOMkLtcd"
   },
   "outputs": [],
   "source": [
    "def return_predicted(model, hidden_size, test, device = 'cuda'):\n",
    "    predicted = []\n",
    "    preds = []\n",
    "    model.eval()\n",
    "    for i in range(365):\n",
    "        testX = []\n",
    "        testX.append(test[i:i+hidden_size, 0])\n",
    "        testX = np.array(testX)\n",
    "        testX = np.reshape(testX, (testX.shape[0], 1, testX.shape[1]))\n",
    "        x = torch.tensor(testX).type(dtype=torch.FloatTensor)\n",
    "        hidden = (torch.zeros(1, model.hidden_size).to(device),\n",
    "              torch.zeros(1, model.hidden_size).to(device))\n",
    "        pred = model(x.to(device), hidden)\n",
    "        pred = pred.cpu().detach().numpy()\n",
    "        preds.append(np.mean(pred))\n",
    "        test = np.concatenate((test, np.array(pred).reshape(-1,1)), axis = 0)\n",
    "    return preds"
   ]
  },
  {
   "cell_type": "code",
   "execution_count": 38,
   "metadata": {
    "id": "FwYs_HAK1j8Y"
   },
   "outputs": [],
   "source": [
    "pred = return_predicted(model, look_back, test)\n",
    "predicts = []\n",
    "for i in pred:\n",
    "    predicts.append([i])\n",
    "true_pred = scaler.inverse_transform(predicts)\n",
    "predicts = []\n",
    "for i in true_pred:\n",
    "    predicts.append(i[0])"
   ]
  },
  {
   "cell_type": "code",
   "execution_count": 39,
   "metadata": {
    "id": "dfUY6cB6L6Hc"
   },
   "outputs": [],
   "source": [
    "import pandas as pd"
   ]
  },
  {
   "cell_type": "code",
   "execution_count": 40,
   "metadata": {
    "id": "0r4qBaiO2thg"
   },
   "outputs": [],
   "source": [
    "df = pd.DataFrame()\n",
    "df['date'] = pd.date_range(\"2019-01-01\", periods=365, freq=\"D\")\n",
    "df['hits'] = predicts"
   ]
  },
  {
   "cell_type": "markdown",
   "metadata": {
    "id": "6s-ZsDFk7eG4"
   },
   "source": [
    "#### Feedback (опционально)"
   ]
  },
  {
   "cell_type": "markdown",
   "metadata": {
    "id": "P39tBvhg7eG4"
   },
   "source": [
    "Здесь вы можете оставить список опечаток из лекции или семинара:"
   ]
  },
  {
   "cell_type": "markdown",
   "metadata": {
    "id": "FRtjlkhR7eG5"
   },
   "source": []
  },
  {
   "cell_type": "markdown",
   "metadata": {
    "id": "yI_VVTUG7eG5"
   },
   "source": [
    "Здесь вы можете оставить комментарии по лекции или семинару:"
   ]
  },
  {
   "cell_type": "markdown",
   "metadata": {
    "id": "hctZJ3l37eG5"
   },
   "source": []
  }
 ],
 "metadata": {
  "accelerator": "GPU",
  "colab": {
   "collapsed_sections": [
    "6s-ZsDFk7eG4"
   ],
   "name": "Practice task 8, LSTM.ipynb",
   "provenance": []
  },
  "kernelspec": {
   "display_name": "Python 3",
   "language": "python",
   "name": "python3"
  },
  "language_info": {
   "codemirror_mode": {
    "name": "ipython",
    "version": 3
   },
   "file_extension": ".py",
   "mimetype": "text/x-python",
   "name": "python",
   "nbconvert_exporter": "python",
   "pygments_lexer": "ipython3",
   "version": "3.9.1"
  },
  "latex_envs": {
   "bibliofile": "biblio.bib",
   "cite_by": "apalike",
   "current_citInitial": 1,
   "eqLabelWithNumbers": true,
   "eqNumInitial": 0
  }
 },
 "nbformat": 4,
 "nbformat_minor": 1
}
