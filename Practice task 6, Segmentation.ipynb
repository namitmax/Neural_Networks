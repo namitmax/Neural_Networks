{
  "nbformat": 4,
  "nbformat_minor": 0,
  "metadata": {
    "colab": {
      "name": "Practice task 6, Segmentation[UNET].ipynb",
      "provenance": [],
      "collapsed_sections": []
    },
    "kernelspec": {
      "display_name": "Python 3",
      "language": "python",
      "name": "python3"
    },
    "language_info": {
      "codemirror_mode": {
        "name": "ipython",
        "version": 3
      },
      "file_extension": ".py",
      "mimetype": "text/x-python",
      "name": "python",
      "nbconvert_exporter": "python",
      "pygments_lexer": "ipython3",
      "version": "3.9.1"
    },
    "accelerator": "GPU"
  },
  "cells": [
    {
      "cell_type": "markdown",
      "metadata": {
        "id": "FtTi-RBYkF9o"
      },
      "source": [
        "## Семинар 6 \"Segmentation\""
      ]
    },
    {
      "cell_type": "markdown",
      "metadata": {
        "id": "cpY6ytJMkF9q"
      },
      "source": [
        "ФИО: Намит Максим Михайлович"
      ]
    },
    {
      "cell_type": "markdown",
      "metadata": {
        "id": "NJGJLz9AkF9r"
      },
      "source": [
        "## Задание"
      ]
    },
    {
      "cell_type": "markdown",
      "metadata": {
        "id": "loWRFqCskF9r"
      },
      "source": [
        "Предлагается поучаствовать в конкурсе https://drive.grand-challenge.org/\n",
        "\n",
        "Для зачета требуется получить значение dice-coefficient на leaderboard не меньше 0.8 и прислать ноутбук с кодом и кратким отчетом: что пробовали, что сделали, мысли почему окончательная архитектура лучше остальных.\n",
        "\n",
        "Называйте своего юзера с суффиксом [sphere].\n",
        "\n",
        "Также первые 3 человека получат бонусные 6, 4, 2 балл соответственно. (deadline: 23:59 14 апреля 2019). Скорее всего будут дополнительные плюшки для призеров конкурса.\n"
      ]
    },
    {
      "cell_type": "markdown",
      "metadata": {
        "id": "vYvcTQuCcPon"
      },
      "source": [
        ""
      ]
    },
    {
      "cell_type": "code",
      "metadata": {
        "colab": {
          "base_uri": "https://localhost:8080/"
        },
        "id": "FqVW-HlfkJCQ",
        "outputId": "2aedbb81-2b66-4977-afd9-b5ddd388ee1e"
      },
      "source": [
        "from google.colab import drive\n",
        "drive.mount('/content/drive')"
      ],
      "execution_count": null,
      "outputs": [
        {
          "output_type": "stream",
          "text": [
            "Mounted at /content/drive\n"
          ],
          "name": "stdout"
        }
      ]
    },
    {
      "cell_type": "code",
      "metadata": {
        "colab": {
          "base_uri": "https://localhost:8080/"
        },
        "id": "6dJAPiV6kfRi",
        "outputId": "590f3a60-b866-4266-f86b-f072cfdf47dc"
      },
      "source": [
        "!pip install imagecodecs"
      ],
      "execution_count": null,
      "outputs": [
        {
          "output_type": "stream",
          "text": [
            "Collecting imagecodecs\n",
            "\u001b[?25l  Downloading https://files.pythonhosted.org/packages/d3/b7/b376a1e8d3c7f7f83012e722a9c11606137540248f89766bb28a8dc879d4/imagecodecs-2021.3.31-cp37-cp37m-manylinux2014_x86_64.whl (24.7MB)\n",
            "\u001b[K     |████████████████████████████████| 24.7MB 128kB/s \n",
            "\u001b[?25hRequirement already satisfied: numpy>=1.15.1 in /usr/local/lib/python3.7/dist-packages (from imagecodecs) (1.19.5)\n",
            "Installing collected packages: imagecodecs\n",
            "Successfully installed imagecodecs-2021.3.31\n"
          ],
          "name": "stdout"
        }
      ]
    },
    {
      "cell_type": "code",
      "metadata": {
        "id": "suHe9wOCkF9s"
      },
      "source": [
        "import os\n",
        "import numpy as np\n",
        "import pandas as pd\n",
        "import matplotlib.pyplot as plt\n",
        "from tqdm import tqdm\n",
        "\n",
        "import torch as t\n",
        "from torch.utils import data\n",
        "from torchvision import transforms as tsf\n",
        "import scipy.misc\n",
        "\n",
        "from pathlib import Path\n",
        "\n",
        "from PIL import Image\n",
        "import skimage\n",
        "from skimage import io\n",
        "import imagecodecs\n",
        "\n",
        "TRAIN_PATH = './train.pth'\n",
        "TEST_PATH = './test.tph'\n",
        "%matplotlib inline"
      ],
      "execution_count": null,
      "outputs": []
    },
    {
      "cell_type": "code",
      "metadata": {
        "id": "xK57mHZAkF9s"
      },
      "source": [
        "def process(dataset_path, mask_path=None):\n",
        "    data = []\n",
        "    if mask_path:\n",
        "        mask_path = Path(mask_path)\n",
        "\n",
        "    for image in sorted(Path(dataset_path).iterdir()):\n",
        "        item = {}\n",
        "        img = io.imread(image)\n",
        "        \n",
        "        if img.shape[2]>3:\n",
        "            assert(img[:,:,3]!=255).sum()==0\n",
        "        \n",
        "        img = img[:,:,:3]\n",
        "        item['name'] = image.name.split(\"_\")[0]\n",
        "        item['img'] = t.from_numpy(img)\n",
        "        if mask_path:\n",
        "            mask = io.imread(mask_path/(item['name'] + \"_manual1.gif\"))\n",
        "            item['mask'] = t.from_numpy(mask)\n",
        "        data.append(item)\n",
        "    \n",
        "    return data\n",
        "test = process('drive/MyDrive/data/test/images/')\n",
        "t.save(test, TEST_PATH)\n",
        "train_data = process('drive/MyDrive/data/train/images', \"drive/MyDrive/data/train/1st_manual/\")"
      ],
      "execution_count": null,
      "outputs": []
    },
    {
      "cell_type": "code",
      "metadata": {
        "id": "s95INqWdsAF_"
      },
      "source": [
        "import torch"
      ],
      "execution_count": null,
      "outputs": []
    },
    {
      "cell_type": "code",
      "metadata": {
        "colab": {
          "base_uri": "https://localhost:8080/"
        },
        "id": "16nkM-KUJWlL",
        "outputId": "c9ca84d4-7a92-4a4e-d897-bfc21a3b02d4"
      },
      "source": [
        "from random import uniform, choice\n",
        "angle =  np.random.choice([10, 20, 30], size=1)\n",
        "print(angle)"
      ],
      "execution_count": null,
      "outputs": [
        {
          "output_type": "stream",
          "text": [
            "[30]\n"
          ],
          "name": "stdout"
        }
      ]
    },
    {
      "cell_type": "code",
      "metadata": {
        "id": "jfvoIU4-kF9t"
      },
      "source": [
        "import PIL\n",
        "\n",
        "class GaussianNoise(object):\n",
        "  def __init__(self, mean=0., std=1.):\n",
        "    self.std = std\n",
        "    self.mean = mean\n",
        "\n",
        "  def __call__(self, tensor):\n",
        "    return tensor + torch.randn(tensor.size()) * self.std + self.mean\n",
        "\n",
        "class MakeRotation(object):\n",
        "  def __init__(self, alpha):\n",
        "    self.alpha = alpha\n",
        "  def __call__(self, x):\n",
        "    return tsf.functional.rotate(x, self.alpha)\n",
        "\n",
        "class Dataset():\n",
        "    def __init__(self,data):\n",
        "        self.datas = data\n",
        "\n",
        "    def __getitem__(self, index):\n",
        "        data = self.datas[index]\n",
        "        img = data['img'].numpy()\n",
        "        mask = data['mask'][:,:,None].byte().numpy()\n",
        "        #rot = tsf.RandomRotation(90)\n",
        "        #angle = np.random.choice(np.array([10, 45, 90, 180, -180, -90, -45, -10], dtype=float), size=1)[0]\n",
        "        #print(angle)\n",
        "        angle = np.random.uniform(-10,10, size = 1)\n",
        "        s_trans = tsf.Compose([\n",
        "          tsf.ToPILImage(),\n",
        "          tsf.ToTensor(),\n",
        "          MakeRotation(angle),\n",
        "          GaussianNoise(0., 0.005),\n",
        "          tsf.Normalize(mean = [0.5,0.5,0.5],std = [0.5,0.5,0.5])\n",
        "        ])\n",
        "        t_trans = tsf.Compose([\n",
        "          tsf.ToPILImage(),\n",
        "          MakeRotation(angle),\n",
        "          tsf.ToTensor(),\n",
        "        ])\n",
        "        return s_trans(img), t_trans(mask)\n",
        "\n",
        "    def __len__(self):\n",
        "        return len(self.datas)\n",
        "\n",
        "\n",
        "dataset = Dataset(train_data)\n",
        "dataloader = t.utils.data.DataLoader(dataset,num_workers=2,batch_size=4)"
      ],
      "execution_count": null,
      "outputs": []
    },
    {
      "cell_type": "code",
      "metadata": {
        "colab": {
          "base_uri": "https://localhost:8080/",
          "height": 259
        },
        "id": "og717m-ikF9t",
        "outputId": "8a269c13-8508-47f0-c8a7-c622bd88e437"
      },
      "source": [
        "img,mask = dataset[3]\n",
        "plt.subplot(121)\n",
        "plt.imshow(img.permute(1,2,0).numpy()*0.5+0.5)\n",
        "plt.subplot(122)\n",
        "plt.imshow(mask[0].numpy())"
      ],
      "execution_count": null,
      "outputs": [
        {
          "output_type": "stream",
          "text": [
            "WARNING:matplotlib.image:Clipping input data to the valid range for imshow with RGB data ([0..1] for floats or [0..255] for integers).\n"
          ],
          "name": "stderr"
        },
        {
          "output_type": "stream",
          "text": [
            "10.0\n"
          ],
          "name": "stdout"
        },
        {
          "output_type": "execute_result",
          "data": {
            "text/plain": [
              "<matplotlib.image.AxesImage at 0x7f7d8ce11f10>"
            ]
          },
          "metadata": {
            "tags": []
          },
          "execution_count": 64
        },
        {
          "output_type": "display_data",
          "data": {
            "image/png": "[encoded data removed]",
            "text/plain": [
              "<Figure size 432x288 with 2 Axes>"
            ]
          },
          "metadata": {
            "tags": [],
            "needs_background": "light"
          }
        }
      ]
    },
    {
      "cell_type": "code",
      "metadata": {
        "id": "ACEQXiguwi-x"
      },
      "source": [
        "# sub-parts of the U-Net model\n",
        "\n",
        "from torch import nn\n",
        "import torch.nn.functional as F"
      ],
      "execution_count": null,
      "outputs": []
    },
    {
      "cell_type": "code",
      "metadata": {
        "id": "OHtRyCctkF9u"
      },
      "source": [
        "class double_conv(nn.Module):\n",
        "    def __init__(self, in_ch, out_ch):\n",
        "        super(double_conv, self).__init__()\n",
        "        self.conv = nn.Sequential(\n",
        "            nn.Conv2d(in_ch, out_ch, 3, padding=1),\n",
        "            nn.BatchNorm2d(out_ch),\n",
        "            nn.ReLU(inplace=True),\n",
        "            nn.Conv2d(out_ch, out_ch, 3, padding=1),\n",
        "            nn.BatchNorm2d(out_ch),\n",
        "            nn.ReLU(inplace=True)\n",
        "            )\n",
        "\n",
        "    def forward(self, x):\n",
        "        x = self.conv(x)\n",
        "        return x\n",
        "\n",
        "\n",
        "class inconv(nn.Module):\n",
        "    def __init__(self, in_ch, out_ch):\n",
        "        super(inconv, self).__init__()\n",
        "        self.conv = double_conv(in_ch, out_ch)\n",
        "\n",
        "    def forward(self, x):\n",
        "        x = self.conv(x)\n",
        "        return x\n",
        "\n",
        "\n",
        "class down(nn.Module):\n",
        "    def __init__(self, in_ch, out_ch):\n",
        "        super(down, self).__init__()\n",
        "        self.mpconv = nn.Sequential(\n",
        "            nn.MaxPool2d(2),\n",
        "            double_conv(in_ch, out_ch)\n",
        "        )\n",
        "\n",
        "    def forward(self, x):\n",
        "        x = self.mpconv(x)\n",
        "        return x\n",
        "\n",
        "\n",
        "class up(nn.Module):\n",
        "    def __init__(self, in_ch, out_ch, bilinear=False):\n",
        "        super(up, self).__init__()\n",
        "\n",
        "        #  would be a nice idea if the upsampling could be learned too,\n",
        "        #  but my machine do not have enough memory to handle all those weights\n",
        "        if bilinear:\n",
        "            self.up = nn.Upsample(scale_factor=2, mode='bilinear', align_corners=True)\n",
        "        else:\n",
        "            self.up = nn.ConvTranspose2d(in_ch//2, in_ch//2, 2, stride=2)\n",
        "\n",
        "        self.conv = double_conv(in_ch, out_ch)\n",
        "\n",
        "    def forward(self, x1, x2):\n",
        "        x1 = self.up(x1)\n",
        "        \n",
        "        # input is CHW\n",
        "        diffY = x2.size()[2] - x1.size()[2]\n",
        "        diffX = x2.size()[3] - x1.size()[3]\n",
        "\n",
        "        x1 = F.pad(x1, (diffX // 2, diffX - diffX//2,\n",
        "                        diffY // 2, diffY - diffY//2))\n",
        "        \n",
        "        # for padding issues, see \n",
        "        # https://github.com/HaiyongJiang/U-Net-Pytorch-Unstructured-Buggy/commit/0e854509c2cea854e247a9c615f175f76fbb2e3a\n",
        "        # https://github.com/xiaopeng-liao/Pytorch-UNet/commit/8ebac70e633bac59fc22bb5195e513d5832fb3bd\n",
        "\n",
        "        x = t.cat([x2, x1], dim=1)\n",
        "        x = self.conv(x)\n",
        "        return x\n",
        "\n",
        "\n",
        "class outconv(nn.Module):\n",
        "    def __init__(self, in_ch, out_ch):\n",
        "        super(outconv, self).__init__()\n",
        "        self.conv_1 = nn.Conv2d(in_ch, out_ch, 1)\n",
        "\n",
        "    def forward(self, x):\n",
        "        x = self.conv(x)\n",
        "        return x\n",
        "\n",
        "\n",
        "class UNet(nn.Module):\n",
        "    def __init__(self, n_channels, n_classes):\n",
        "        super(UNet, self).__init__()\n",
        "        self.inc = double_conv(n_channels, 64)\n",
        "        self.down1 = down(64, 128)\n",
        "        self.down2 = down(128, 256)\n",
        "        self.down3 = down(256, 512)\n",
        "        self.down4 = down(512, 512)\n",
        "        self.up1 = up(1024, 256)\n",
        "        self.up2 = up(512, 128)\n",
        "        self.up3 = up(256, 64)\n",
        "        self.up4 = up(128, 64)\n",
        "        self.outc = outconv(64, n_classes)\n",
        "\n",
        "    def forward(self, x):\n",
        "        x1 = self.inc(x)\n",
        "        x2 = self.down1(x1)\n",
        "        x3 = self.down2(x2)\n",
        "        x4 = self.down3(x3)\n",
        "        x5 = self.down4(x4)\n",
        "        x = self.up1(x5, x4)\n",
        "        x = self.up2(x, x3)\n",
        "        x = self.up3(x, x2)\n",
        "        x = self.up4(x, x1)\n",
        "        x = self.outc(x)\n",
        "        x = t.sigmoid(x)\n",
        "        return x"
      ],
      "execution_count": null,
      "outputs": []
    },
    {
      "cell_type": "code",
      "metadata": {
        "id": "rsnY9fg74Eyt"
      },
      "source": [
        "class double_conv(nn.Module):\n",
        "    def __init__(self, in_ch, out_ch):\n",
        "        super(double_conv, self).__init__()\n",
        "        self.conv = nn.Sequential(\n",
        "            nn.Conv2d(in_ch, out_ch, 3, padding=1),\n",
        "            nn.BatchNorm2d(out_ch),\n",
        "            nn.ReLU(inplace=True),\n",
        "            nn.Conv2d(out_ch, out_ch, 3, padding=1),\n",
        "            nn.BatchNorm2d(out_ch),\n",
        "            nn.ReLU(inplace=True)\n",
        "        )\n",
        "\n",
        "    def forward(self, x):\n",
        "        x = self.conv(x)\n",
        "        return x\n",
        "\n",
        "\n",
        "class inconv(nn.Module):\n",
        "    def __init__(self, in_ch, out_ch):\n",
        "        super(inconv, self).__init__()\n",
        "        self.conv = double_conv(in_ch, out_ch)\n",
        "\n",
        "    def forward(self, x):\n",
        "        x = self.conv(x)\n",
        "        return x\n",
        "\n",
        "\n",
        "class down(nn.Module):\n",
        "    def __init__(self, in_ch, out_ch):\n",
        "        super(down, self).__init__()\n",
        "        self.mpconv = nn.Sequential(\n",
        "            nn.MaxPool2d(2),\n",
        "            double_conv(in_ch, out_ch)\n",
        "        )\n",
        "\n",
        "    def forward(self, x):\n",
        "        x = self.mpconv(x)\n",
        "        return x\n",
        "\n",
        "\n",
        "class up(nn.Module):\n",
        "    def __init__(self, in_ch, out_ch, bilinear=False):\n",
        "        super(up, self).__init__()\n",
        "\n",
        "        #  would be a nice idea if the upsampling could be learned too,\n",
        "        #  but my machine do not have enough memory to handle all those weights\n",
        "        if bilinear:\n",
        "            self.up = nn.Upsample(scale_factor=2, mode='bilinear', align_corners=True)\n",
        "        else:\n",
        "            self.up = nn.ConvTranspose2d(in_ch//2, in_ch//2, 2, stride=2)\n",
        "\n",
        "        self.conv = double_conv(in_ch, out_ch)\n",
        "\n",
        "    def forward(self, x1, x2):\n",
        "        x1 = self.up(x1)\n",
        "        \n",
        "        # input is CHW\n",
        "        diffY = x2.size()[2] - x1.size()[2]\n",
        "        diffX = x2.size()[3] - x1.size()[3]\n",
        "\n",
        "        x1 = F.pad(x1, (diffX // 2, diffX - diffX//2,\n",
        "                        diffY // 2, diffY - diffY//2))\n",
        "        \n",
        "        # for padding issues, see \n",
        "        # https://github.com/HaiyongJiang/U-Net-Pytorch-Unstructured-Buggy/commit/0e854509c2cea854e247a9c615f175f76fbb2e3a\n",
        "        # https://github.com/xiaopeng-liao/Pytorch-UNet/commit/8ebac70e633bac59fc22bb5195e513d5832fb3bd\n",
        "\n",
        "        x = t.cat([x2, x1], dim=1)\n",
        "        x = self.conv(x)\n",
        "        return x\n",
        "\n",
        "\n",
        "class outconv(nn.Module):\n",
        "    def __init__(self, in_ch, out_ch):\n",
        "        super(outconv, self).__init__()\n",
        "        self.conv = nn.Conv2d(in_ch, out_ch, 1)\n",
        "\n",
        "    def forward(self, x):\n",
        "        x = self.conv(x)\n",
        "        return x\n",
        "\n",
        "\n",
        "class UNet(nn.Module):\n",
        "    def __init__(self, n_channels, n_classes):\n",
        "        super(UNet, self).__init__()\n",
        "        self.inc = inconv(n_channels, 64)\n",
        "        self.down1 = down(64, 128)\n",
        "        self.down2 = down(128, 256)\n",
        "        self.down3 = down(256, 512)\n",
        "        self.down4 = down(512, 512)\n",
        "        self.up1 = up(1024, 256)\n",
        "        self.up2 = up(512, 128)\n",
        "        self.up3 = up(256, 64)\n",
        "        self.up4 = up(128, 64)\n",
        "        self.outc = outconv(64, n_classes)\n",
        "\n",
        "    def forward(self, x):\n",
        "        x1 = self.inc(x)\n",
        "        x2 = self.down1(x1)\n",
        "        x3 = self.down2(x2)\n",
        "        x4 = self.down3(x3)\n",
        "        x5 = self.down4(x4)\n",
        "        x = self.up1(x5, x4)\n",
        "        x = self.up2(x, x3)\n",
        "        x = self.up3(x, x2)\n",
        "        x = self.up4(x, x1)\n",
        "        x = self.outc(x)\n",
        "        x = t.sigmoid(x)\n",
        "        return x"
      ],
      "execution_count": null,
      "outputs": []
    },
    {
      "cell_type": "code",
      "metadata": {
        "id": "0ZsAzqvWkF9v"
      },
      "source": [
        "# Попробуйте использовать различные функции потерь.\n",
        "def soft_dice_loss(inputs, targets):\n",
        "        num = targets.size(0)\n",
        "        m1  = inputs.view(num,-1)\n",
        "        m2  = targets.view(num,-1)\n",
        "        intersection = (m1 * m2)\n",
        "        score = 2. * (intersection.sum(1)+1) / (m1.sum(1) + m2.sum(1)+1)\n",
        "        score = 1 - score.sum()/num\n",
        "        return score"
      ],
      "execution_count": null,
      "outputs": []
    },
    {
      "cell_type": "code",
      "metadata": {
        "id": "33R0l20Jl6vZ"
      },
      "source": [
        "import torch"
      ],
      "execution_count": null,
      "outputs": []
    },
    {
      "cell_type": "code",
      "metadata": {
        "id": "vYU9JsxokF9w"
      },
      "source": [
        "device_ = torch.device('cuda')\n",
        "model = UNet(3, 1).to(device_)"
      ],
      "execution_count": null,
      "outputs": []
    },
    {
      "cell_type": "code",
      "metadata": {
        "id": "e4Hbou15kF9x"
      },
      "source": [
        "\n",
        "s_trans = tsf.Compose([\n",
        "    tsf.ToPILImage(),\n",
        "    tsf.ToTensor(),\n",
        "    tsf.Normalize(mean = [0.5,0.5,0.5],std = [0.5,0.5,0.5])\n",
        "])\n",
        "\n",
        "class TestDataset():\n",
        "    def __init__(self,path,source_transform):\n",
        "        self.datas = t.load(path)\n",
        "        self.s_transform = source_transform\n",
        "    def __getitem__(self, index):\n",
        "        data = self.datas[index]\n",
        "        img = data['img'].numpy()\n",
        "        img = self.s_transform(img)\n",
        "        return img\n",
        "    def __len__(self):\n",
        "        return len(self.datas)\n",
        "\n",
        "testset = TestDataset(TEST_PATH, s_trans)\n",
        "testdataloader = t.utils.data.DataLoader(testset, batch_size=1)"
      ],
      "execution_count": null,
      "outputs": []
    },
    {
      "cell_type": "code",
      "metadata": {
        "id": "yIVHVUL5w6w5"
      },
      "source": [
        "from IPython.display import clear_output\n",
        "import sys"
      ],
      "execution_count": null,
      "outputs": []
    },
    {
      "cell_type": "code",
      "metadata": {
        "id": "94UCOn9OkF9x"
      },
      "source": [
        "def train(network, train_loader, epochs, \n",
        "          learning_rate):\n",
        "    loss = soft_dice_loss\n",
        "    optimizer = torch.optim.Adam(network.parameters(), lr=learning_rate)\n",
        "    train_loss_epochs = []\n",
        "    train_accuracy_epochs = []\n",
        "    network = network.to('cuda')\n",
        "    try:\n",
        "        for epoch in range(epochs):\n",
        "            losses = []\n",
        "            accuracies = []\n",
        "            for X, y in train_loader:\n",
        "                X = X.to('cuda')\n",
        "                y = y.to('cuda')\n",
        "                network.zero_grad()\n",
        "                prediction = network(X)\n",
        "                loss_batch = loss(prediction, y)\n",
        "                losses.append(loss_batch.cpu().item())\n",
        "                loss_batch.backward()\n",
        "                optimizer.step()\n",
        "            train_loss_epochs.append(np.mean(losses))\n",
        "            train_accuracy_epochs.append(np.mean(accuracies))\n",
        "            clear_output(True)\n",
        "            sys.stdout.write('\\rEpoch {0}... (Train) LOSS: {1:.3f}'.format(\n",
        "                            epoch, train_loss_epochs[-1]))\n",
        "            plot = True\n",
        "            if plot:\n",
        "                plt.figure(figsize=(12, 5))\n",
        "                plt.subplot(1, 2, 1)\n",
        "                plt.plot(train_loss_epochs, label='Train')\n",
        "                plt.xlabel('Epochs', fontsize=16)\n",
        "                plt.ylabel('Loss', fontsize=16)\n",
        "                plt.legend(loc=0, fontsize=16)\n",
        "                plt.grid('on')\n",
        "                plt.show()\n",
        "    except KeyboardInterrupt:\n",
        "        pass\n",
        "    return train_loss_epochs, \\\n",
        "           train_accuracy_epochs"
      ],
      "execution_count": null,
      "outputs": []
    },
    {
      "cell_type": "code",
      "metadata": {
        "colab": {
          "base_uri": "https://localhost:8080/",
          "height": 1000
        },
        "id": "NXNC034Prkpj",
        "outputId": "d135461a-d10e-4864-e51f-8aa81a8e6bf4"
      },
      "source": [
        "train(model, dataloader, 75, 0.001)\n"
      ],
      "execution_count": null,
      "outputs": [
        {
          "output_type": "stream",
          "text": [
            "\rEpoch 74... (Train) LOSS: 0.183"
          ],
          "name": "stdout"
        },
        {
          "output_type": "display_data",
          "data": {
            "image/png": "[encoded data removed]",
            "text/plain": [
              "<Figure size 864x360 with 1 Axes>"
            ]
          },
          "metadata": {
            "tags": [],
            "needs_background": "light"
          }
        },
        {
          "output_type": "execute_result",
          "data": {
            "text/plain": [
              "([0.7951405644416809,\n",
              "  0.7418729662895203,\n",
              "  0.7147710442543029,\n",
              "  0.6930921792984008,\n",
              "  0.6730925679206848,\n",
              "  0.6535674452781677,\n",
              "  0.632171881198883,\n",
              "  0.6142022490501404,\n",
              "  0.5960086107254028,\n",
              "  0.5815431714057923,\n",
              "  0.5628367304801941,\n",
              "  0.5364534974098205,\n",
              "  0.5037767648696899,\n",
              "  0.4777558445930481,\n",
              "  0.45375176668167116,\n",
              "  0.4306587815284729,\n",
              "  0.41161863803863524,\n",
              "  0.39580042362213136,\n",
              "  0.37421969175338743,\n",
              "  0.3566809296607971,\n",
              "  0.340503466129303,\n",
              "  0.3268920421600342,\n",
              "  0.3124503493309021,\n",
              "  0.30085320472717286,\n",
              "  0.2947377681732178,\n",
              "  0.29006662368774416,\n",
              "  0.2864344835281372,\n",
              "  0.2797379016876221,\n",
              "  0.26986507177352903,\n",
              "  0.26812162399291994,\n",
              "  0.2622308611869812,\n",
              "  0.25395371913909914,\n",
              "  0.251929247379303,\n",
              "  0.24810166358947755,\n",
              "  0.24373711347579957,\n",
              "  0.2370791792869568,\n",
              "  0.23332910537719725,\n",
              "  0.23222867250442505,\n",
              "  0.23196227550506593,\n",
              "  0.22878252267837523,\n",
              "  0.22540000677108765,\n",
              "  0.22070425748825073,\n",
              "  0.22114095687866211,\n",
              "  0.22021965980529784,\n",
              "  0.22045607566833497,\n",
              "  0.21716364622116088,\n",
              "  0.2143198013305664,\n",
              "  0.2108386754989624,\n",
              "  0.21076290607452391,\n",
              "  0.20823426246643068,\n",
              "  0.20619442462921142,\n",
              "  0.2033494830131531,\n",
              "  0.20222944021224976,\n",
              "  0.20085655450820922,\n",
              "  0.20006564855575562,\n",
              "  0.19975998401641845,\n",
              "  0.1979422926902771,\n",
              "  0.1982925295829773,\n",
              "  0.19952541589736938,\n",
              "  0.20343616008758544,\n",
              "  0.2028473973274231,\n",
              "  0.20210760831832886,\n",
              "  0.19794762134552002,\n",
              "  0.1950165033340454,\n",
              "  0.190806245803833,\n",
              "  0.1890536665916443,\n",
              "  0.18926546573638917,\n",
              "  0.18660378456115723,\n",
              "  0.18725264072418213,\n",
              "  0.19040865898132325,\n",
              "  0.18988069295883178,\n",
              "  0.1898351192474365,\n",
              "  0.18532928228378295,\n",
              "  0.18365014791488649,\n",
              "  0.18329572677612305],\n",
              " [nan,\n",
              "  nan,\n",
              "  nan,\n",
              "  nan,\n",
              "  nan,\n",
              "  nan,\n",
              "  nan,\n",
              "  nan,\n",
              "  nan,\n",
              "  nan,\n",
              "  nan,\n",
              "  nan,\n",
              "  nan,\n",
              "  nan,\n",
              "  nan,\n",
              "  nan,\n",
              "  nan,\n",
              "  nan,\n",
              "  nan,\n",
              "  nan,\n",
              "  nan,\n",
              "  nan,\n",
              "  nan,\n",
              "  nan,\n",
              "  nan,\n",
              "  nan,\n",
              "  nan,\n",
              "  nan,\n",
              "  nan,\n",
              "  nan,\n",
              "  nan,\n",
              "  nan,\n",
              "  nan,\n",
              "  nan,\n",
              "  nan,\n",
              "  nan,\n",
              "  nan,\n",
              "  nan,\n",
              "  nan,\n",
              "  nan,\n",
              "  nan,\n",
              "  nan,\n",
              "  nan,\n",
              "  nan,\n",
              "  nan,\n",
              "  nan,\n",
              "  nan,\n",
              "  nan,\n",
              "  nan,\n",
              "  nan,\n",
              "  nan,\n",
              "  nan,\n",
              "  nan,\n",
              "  nan,\n",
              "  nan,\n",
              "  nan,\n",
              "  nan,\n",
              "  nan,\n",
              "  nan,\n",
              "  nan,\n",
              "  nan,\n",
              "  nan,\n",
              "  nan,\n",
              "  nan,\n",
              "  nan,\n",
              "  nan,\n",
              "  nan,\n",
              "  nan,\n",
              "  nan,\n",
              "  nan,\n",
              "  nan,\n",
              "  nan,\n",
              "  nan,\n",
              "  nan,\n",
              "  nan])"
            ]
          },
          "metadata": {
            "tags": []
          },
          "execution_count": 74
        }
      ]
    },
    {
      "cell_type": "code",
      "metadata": {
        "id": "wzLFrubSCbeL"
      },
      "source": [
        "s_trans = tsf.Compose([\n",
        "    tsf.ToPILImage(),\n",
        "    #tsf.Resize((400,400)),\n",
        "    tsf.ToTensor(),\n",
        "    tsf.Normalize(mean = [0.5,0.5,0.5],std = [0.5,0.5,0.5])\n",
        "])\n",
        "class TestDataset():\n",
        "    def __init__(self,path,source_transform):\n",
        "        self.datas = t.load(path)\n",
        "        self.s_transform = source_transform\n",
        "    def __getitem__(self, index):\n",
        "        data = self.datas[index]\n",
        "        img = data['img'].numpy()\n",
        "        img = self.s_transform(img)\n",
        "        return img\n",
        "    def __len__(self):\n",
        "        return len(self.datas)\n",
        "\n",
        "testset = TestDataset(TEST_PATH, s_trans)\n",
        "test_dataloader = t.utils.data.DataLoader(testset,batch_size=1)"
      ],
      "execution_count": null,
      "outputs": []
    },
    {
      "cell_type": "code",
      "metadata": {
        "colab": {
          "base_uri": "https://localhost:8080/"
        },
        "id": "Qmpyi24LHdfM",
        "outputId": "5e82016c-47e1-44e3-e230-10448b1e7719"
      },
      "source": [
        "len(test_dataloader)"
      ],
      "execution_count": null,
      "outputs": [
        {
          "output_type": "execute_result",
          "data": {
            "text/plain": [
              "20"
            ]
          },
          "metadata": {
            "tags": []
          },
          "execution_count": 76
        }
      ]
    },
    {
      "cell_type": "code",
      "metadata": {
        "colab": {
          "base_uri": "https://localhost:8080/"
        },
        "id": "UuzBvlZhkF9x",
        "outputId": "684c7ef3-dee5-4658-cbe3-53ad68205533"
      },
      "source": [
        "#os.makedirs(\"drive/MyDrive/data/test/result\")\n",
        "!zip -r result.zip result"
      ],
      "execution_count": null,
      "outputs": [
        {
          "output_type": "stream",
          "text": [
            "\tzip warning: name not matched: result\n",
            "\n",
            "zip error: Nothing to do! (try: zip -r result.zip . -i result)\n"
          ],
          "name": "stdout"
        }
      ]
    },
    {
      "cell_type": "code",
      "metadata": {
        "id": "vgtXgAHh1nd4"
      },
      "source": [
        "import skimage.transform"
      ],
      "execution_count": null,
      "outputs": []
    },
    {
      "cell_type": "code",
      "metadata": {
        "id": "QQw-AR1m2Ak-"
      },
      "source": [
        "import imageio\n"
      ],
      "execution_count": null,
      "outputs": []
    },
    {
      "cell_type": "code",
      "metadata": {
        "colab": {
          "base_uri": "https://localhost:8080/"
        },
        "id": "nFDILZNPkF9y",
        "outputId": "3aee8ab1-0428-41ca-c62d-c7c5481e0d80"
      },
      "source": [
        "model = model.eval()\n",
        "for ex_id, data in enumerate(test_dataloader):\n",
        "    data = t.autograd.Variable(data, volatile=True).cuda()\n",
        "    o = model(data)\n",
        "    print('!')\n",
        "    source_image = io.imread(\"drive/MyDrive/data/test/images/%s_test.tif\" % str(ex_id + 1).zfill(2))\n",
        "    tm = o[0][0].data.cpu().numpy()\n",
        "    tm = skimage.transform.resize(tm, source_image.shape[:-1])\n",
        "    tm = (tm > 0.5).astype(int)\n",
        "    \n",
        "    imageio.imwrite(\"drive/MyDrive/data/test/result/%s.png\" % (ex_id + 1), tm)"
      ],
      "execution_count": null,
      "outputs": [
        {
          "output_type": "stream",
          "text": [
            "/usr/local/lib/python3.7/dist-packages/ipykernel_launcher.py:3: UserWarning: volatile was removed and now has no effect. Use `with torch.no_grad():` instead.\n",
            "  This is separate from the ipykernel package so we can avoid doing imports until\n"
          ],
          "name": "stderr"
        },
        {
          "output_type": "stream",
          "text": [
            "!\n"
          ],
          "name": "stdout"
        },
        {
          "output_type": "stream",
          "text": [
            "WARNING:root:Lossy conversion from int64 to uint8. Range [0, 1]. Convert image to uint8 prior to saving to suppress this warning.\n"
          ],
          "name": "stderr"
        },
        {
          "output_type": "stream",
          "text": [
            "!\n"
          ],
          "name": "stdout"
        },
        {
          "output_type": "stream",
          "text": [
            "WARNING:root:Lossy conversion from int64 to uint8. Range [0, 1]. Convert image to uint8 prior to saving to suppress this warning.\n"
          ],
          "name": "stderr"
        },
        {
          "output_type": "stream",
          "text": [
            "!\n"
          ],
          "name": "stdout"
        },
        {
          "output_type": "stream",
          "text": [
            "WARNING:root:Lossy conversion from int64 to uint8. Range [0, 1]. Convert image to uint8 prior to saving to suppress this warning.\n"
          ],
          "name": "stderr"
        },
        {
          "output_type": "stream",
          "text": [
            "!\n"
          ],
          "name": "stdout"
        },
        {
          "output_type": "stream",
          "text": [
            "WARNING:root:Lossy conversion from int64 to uint8. Range [0, 1]. Convert image to uint8 prior to saving to suppress this warning.\n"
          ],
          "name": "stderr"
        },
        {
          "output_type": "stream",
          "text": [
            "!\n"
          ],
          "name": "stdout"
        },
        {
          "output_type": "stream",
          "text": [
            "WARNING:root:Lossy conversion from int64 to uint8. Range [0, 1]. Convert image to uint8 prior to saving to suppress this warning.\n"
          ],
          "name": "stderr"
        },
        {
          "output_type": "stream",
          "text": [
            "!\n"
          ],
          "name": "stdout"
        },
        {
          "output_type": "stream",
          "text": [
            "WARNING:root:Lossy conversion from int64 to uint8. Range [0, 1]. Convert image to uint8 prior to saving to suppress this warning.\n"
          ],
          "name": "stderr"
        },
        {
          "output_type": "stream",
          "text": [
            "!\n"
          ],
          "name": "stdout"
        },
        {
          "output_type": "stream",
          "text": [
            "WARNING:root:Lossy conversion from int64 to uint8. Range [0, 1]. Convert image to uint8 prior to saving to suppress this warning.\n"
          ],
          "name": "stderr"
        },
        {
          "output_type": "stream",
          "text": [
            "!\n"
          ],
          "name": "stdout"
        },
        {
          "output_type": "stream",
          "text": [
            "WARNING:root:Lossy conversion from int64 to uint8. Range [0, 1]. Convert image to uint8 prior to saving to suppress this warning.\n"
          ],
          "name": "stderr"
        },
        {
          "output_type": "stream",
          "text": [
            "!\n"
          ],
          "name": "stdout"
        },
        {
          "output_type": "stream",
          "text": [
            "WARNING:root:Lossy conversion from int64 to uint8. Range [0, 1]. Convert image to uint8 prior to saving to suppress this warning.\n"
          ],
          "name": "stderr"
        },
        {
          "output_type": "stream",
          "text": [
            "!\n"
          ],
          "name": "stdout"
        },
        {
          "output_type": "stream",
          "text": [
            "WARNING:root:Lossy conversion from int64 to uint8. Range [0, 1]. Convert image to uint8 prior to saving to suppress this warning.\n"
          ],
          "name": "stderr"
        },
        {
          "output_type": "stream",
          "text": [
            "!\n"
          ],
          "name": "stdout"
        },
        {
          "output_type": "stream",
          "text": [
            "WARNING:root:Lossy conversion from int64 to uint8. Range [0, 1]. Convert image to uint8 prior to saving to suppress this warning.\n"
          ],
          "name": "stderr"
        },
        {
          "output_type": "stream",
          "text": [
            "!\n"
          ],
          "name": "stdout"
        },
        {
          "output_type": "stream",
          "text": [
            "WARNING:root:Lossy conversion from int64 to uint8. Range [0, 1]. Convert image to uint8 prior to saving to suppress this warning.\n"
          ],
          "name": "stderr"
        },
        {
          "output_type": "stream",
          "text": [
            "!\n"
          ],
          "name": "stdout"
        },
        {
          "output_type": "stream",
          "text": [
            "WARNING:root:Lossy conversion from int64 to uint8. Range [0, 1]. Convert image to uint8 prior to saving to suppress this warning.\n"
          ],
          "name": "stderr"
        },
        {
          "output_type": "stream",
          "text": [
            "!\n"
          ],
          "name": "stdout"
        },
        {
          "output_type": "stream",
          "text": [
            "WARNING:root:Lossy conversion from int64 to uint8. Range [0, 1]. Convert image to uint8 prior to saving to suppress this warning.\n"
          ],
          "name": "stderr"
        },
        {
          "output_type": "stream",
          "text": [
            "!\n"
          ],
          "name": "stdout"
        },
        {
          "output_type": "stream",
          "text": [
            "WARNING:root:Lossy conversion from int64 to uint8. Range [0, 1]. Convert image to uint8 prior to saving to suppress this warning.\n"
          ],
          "name": "stderr"
        },
        {
          "output_type": "stream",
          "text": [
            "!\n"
          ],
          "name": "stdout"
        },
        {
          "output_type": "stream",
          "text": [
            "WARNING:root:Lossy conversion from int64 to uint8. Range [0, 1]. Convert image to uint8 prior to saving to suppress this warning.\n"
          ],
          "name": "stderr"
        },
        {
          "output_type": "stream",
          "text": [
            "!\n"
          ],
          "name": "stdout"
        },
        {
          "output_type": "stream",
          "text": [
            "WARNING:root:Lossy conversion from int64 to uint8. Range [0, 1]. Convert image to uint8 prior to saving to suppress this warning.\n"
          ],
          "name": "stderr"
        },
        {
          "output_type": "stream",
          "text": [
            "!\n"
          ],
          "name": "stdout"
        },
        {
          "output_type": "stream",
          "text": [
            "WARNING:root:Lossy conversion from int64 to uint8. Range [0, 1]. Convert image to uint8 prior to saving to suppress this warning.\n"
          ],
          "name": "stderr"
        },
        {
          "output_type": "stream",
          "text": [
            "!\n"
          ],
          "name": "stdout"
        },
        {
          "output_type": "stream",
          "text": [
            "WARNING:root:Lossy conversion from int64 to uint8. Range [0, 1]. Convert image to uint8 prior to saving to suppress this warning.\n"
          ],
          "name": "stderr"
        },
        {
          "output_type": "stream",
          "text": [
            "!\n"
          ],
          "name": "stdout"
        },
        {
          "output_type": "stream",
          "text": [
            "WARNING:root:Lossy conversion from int64 to uint8. Range [0, 1]. Convert image to uint8 prior to saving to suppress this warning.\n"
          ],
          "name": "stderr"
        }
      ]
    },
    {
      "cell_type": "code",
      "metadata": {
        "id": "EyEqnl5mkF9y"
      },
      "source": [
        ""
      ],
      "execution_count": null,
      "outputs": []
    },
    {
      "cell_type": "code",
      "metadata": {
        "colab": {
          "base_uri": "https://localhost:8080/",
          "height": 226
        },
        "id": "XOBlj5KYkF9y",
        "outputId": "f23e34b6-7baa-4853-91bd-3ea4fca948c8"
      },
      "source": [
        "tm=o[0][0].data.cpu().numpy()\n",
        "plt.subplot(121)\n",
        "plt.imshow(data[0].data.cpu().permute(1,2,0).numpy()*0.5+0.5)\n",
        "plt.subplot(122)\n",
        "plt.imshow(tm)"
      ],
      "execution_count": null,
      "outputs": [
        {
          "output_type": "execute_result",
          "data": {
            "text/plain": [
              "<matplotlib.image.AxesImage at 0x7f7d90ed0f50>"
            ]
          },
          "metadata": {
            "tags": []
          },
          "execution_count": 44
        },
        {
          "output_type": "display_data",
          "data": {
            "image/png": "[encoded data removed]",
            "text/plain": [
              "<Figure size 432x288 with 2 Axes>"
            ]
          },
          "metadata": {
            "tags": [],
            "needs_background": "light"
          }
        }
      ]
    },
    {
      "cell_type": "code",
      "metadata": {
        "id": "n1ydfPMGkF9z"
      },
      "source": [
        ""
      ],
      "execution_count": null,
      "outputs": []
    },
    {
      "cell_type": "markdown",
      "metadata": {
        "id": "pu4lLhO2EimU"
      },
      "source": [
        "Отчет: \n",
        "Эксперементировал с данными - помогло удаление resize а также небольшой случайный шум со случайными вращениями."
      ]
    },
    {
      "cell_type": "code",
      "metadata": {
        "id": "RdNkIKS-GwaS"
      },
      "source": [
        ""
      ],
      "execution_count": null,
      "outputs": []
    }
  ]
}